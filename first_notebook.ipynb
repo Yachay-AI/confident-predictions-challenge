{
 "cells": [
  {
   "cell_type": "code",
   "execution_count": 1,
   "id": "938237a3-febf-4a98-9600-da88a8e7bd37",
   "metadata": {},
   "outputs": [],
   "source": [
    "import pandas as pd\n",
    "import numpy as np\n",
    "from sklearn.model_selection import train_test_split\n",
    "import scipy.stats"
   ]
  },
  {
   "cell_type": "code",
   "execution_count": null,
   "id": "e38996cc-74e6-431b-a8b2-19bf3a90b47d",
   "metadata": {},
   "outputs": [],
   "source": []
  },
  {
   "cell_type": "code",
   "execution_count": 2,
   "id": "81b9d58c-6fd0-4a3a-8618-e1e74974ded9",
   "metadata": {},
   "outputs": [
    {
     "data": {
      "text/html": [
       "<div>\n",
       "<style scoped>\n",
       "    .dataframe tbody tr th:only-of-type {\n",
       "        vertical-align: middle;\n",
       "    }\n",
       "\n",
       "    .dataframe tbody tr th {\n",
       "        vertical-align: top;\n",
       "    }\n",
       "\n",
       "    .dataframe thead th {\n",
       "        text-align: right;\n",
       "    }\n",
       "</style>\n",
       "<table border=\"1\" class=\"dataframe\">\n",
       "  <thead>\n",
       "    <tr style=\"text-align: right;\">\n",
       "      <th></th>\n",
       "      <th>text</th>\n",
       "      <th>coordinates</th>\n",
       "      <th>label</th>\n",
       "      <th>raw_prediction</th>\n",
       "      <th>confidence</th>\n",
       "      <th>distance</th>\n",
       "    </tr>\n",
       "  </thead>\n",
       "  <tbody>\n",
       "    <tr>\n",
       "      <th>20964</th>\n",
       "      <td>@joel271161 @poulin2012 vous êtes tellement fa...</td>\n",
       "      <td>[0.695310096918557, 43.50579007522291]</td>\n",
       "      <td>721</td>\n",
       "      <td>[-1.8304776, -1.6434574, -1.0601386, -1.431044...</td>\n",
       "      <td>0.032404</td>\n",
       "      <td>432.374286</td>\n",
       "    </tr>\n",
       "    <tr>\n",
       "      <th>448207</th>\n",
       "      <td>@sighutsu @blue01530961 那以前比較可以天天撿到幸運草～</td>\n",
       "      <td>[121.39972544895538, 24.845272660654956]</td>\n",
       "      <td>953</td>\n",
       "      <td>[-0.18133685, 0.07034852, 0.40745744, -0.15412...</td>\n",
       "      <td>0.254868</td>\n",
       "      <td>31.319643</td>\n",
       "    </tr>\n",
       "    <tr>\n",
       "      <th>497842</th>\n",
       "      <td>precisando viajar</td>\n",
       "      <td>[-38.9130606409334, -13.071335826421613]</td>\n",
       "      <td>133</td>\n",
       "      <td>[3.215739, -1.3704515, -0.6494701, -1.4568123,...</td>\n",
       "      <td>0.016078</td>\n",
       "      <td>1194.078186</td>\n",
       "    </tr>\n",
       "    <tr>\n",
       "      <th>453073</th>\n",
       "      <td>@memorylanerv @emc_maine @oh_grow_on @gardenin...</td>\n",
       "      <td>[-82.8151652958084, 39.99343560927911]</td>\n",
       "      <td>1511</td>\n",
       "      <td>[0.23749076, -0.8375926, 0.8497064, 1.0164264,...</td>\n",
       "      <td>0.387185</td>\n",
       "      <td>1114.610179</td>\n",
       "    </tr>\n",
       "    <tr>\n",
       "      <th>366398</th>\n",
       "      <td>@inemexico como que no son muy puntuales para ...</td>\n",
       "      <td>[-103.47883507502031, 21.038488711387007]</td>\n",
       "      <td>129</td>\n",
       "      <td>[-3.4438925, -2.687308, -0.7648393, -1.0434728...</td>\n",
       "      <td>0.057140</td>\n",
       "      <td>486.739171</td>\n",
       "    </tr>\n",
       "  </tbody>\n",
       "</table>\n",
       "</div>"
      ],
      "text/plain": [
       "                                                     text  \\\n",
       "20964   @joel271161 @poulin2012 vous êtes tellement fa...   \n",
       "448207            @sighutsu @blue01530961 那以前比較可以天天撿到幸運草～   \n",
       "497842                                  precisando viajar   \n",
       "453073  @memorylanerv @emc_maine @oh_grow_on @gardenin...   \n",
       "366398  @inemexico como que no son muy puntuales para ...   \n",
       "\n",
       "                                      coordinates  label  \\\n",
       "20964      [0.695310096918557, 43.50579007522291]    721   \n",
       "448207   [121.39972544895538, 24.845272660654956]    953   \n",
       "497842   [-38.9130606409334, -13.071335826421613]    133   \n",
       "453073     [-82.8151652958084, 39.99343560927911]   1511   \n",
       "366398  [-103.47883507502031, 21.038488711387007]    129   \n",
       "\n",
       "                                           raw_prediction  confidence  \\\n",
       "20964   [-1.8304776, -1.6434574, -1.0601386, -1.431044...    0.032404   \n",
       "448207  [-0.18133685, 0.07034852, 0.40745744, -0.15412...    0.254868   \n",
       "497842  [3.215739, -1.3704515, -0.6494701, -1.4568123,...    0.016078   \n",
       "453073  [0.23749076, -0.8375926, 0.8497064, 1.0164264,...    0.387185   \n",
       "366398  [-3.4438925, -2.687308, -0.7648393, -1.0434728...    0.057140   \n",
       "\n",
       "           distance  \n",
       "20964    432.374286  \n",
       "448207    31.319643  \n",
       "497842  1194.078186  \n",
       "453073  1114.610179  \n",
       "366398   486.739171  "
      ]
     },
     "execution_count": 2,
     "metadata": {},
     "output_type": "execute_result"
    }
   ],
   "source": [
    "q = data_frame = pd.read_parquet(\"relevance_challenge_train-001.parquet\")\n",
    "\n",
    "q.head()"
   ]
  },
  {
   "cell_type": "code",
   "execution_count": 5,
   "id": "3fc6038f-d2e5-4daf-a1e0-dd89bd1b1c53",
   "metadata": {},
   "outputs": [],
   "source": [
    "y = q['distance']"
   ]
  },
  {
   "cell_type": "code",
   "execution_count": 8,
   "id": "f55ab401-1e68-432b-a3dd-3962cfcae77f",
   "metadata": {},
   "outputs": [],
   "source": [
    "X = np.stack(q['raw_prediction'])\n",
    "from scipy.special import softmax\n"
   ]
  },
  {
   "cell_type": "code",
   "execution_count": 7,
   "id": "4d024ddf-8623-47f0-9f8c-4ceec8d38936",
   "metadata": {},
   "outputs": [
    {
     "ename": "NameError",
     "evalue": "name 'softmax' is not defined",
     "output_type": "error",
     "traceback": [
      "\u001b[0;31m---------------------------------------------------------------------------\u001b[0m",
      "\u001b[0;31mNameError\u001b[0m                                 Traceback (most recent call last)",
      "Cell \u001b[0;32mIn[7], line 40\u001b[0m\n\u001b[1;32m     36\u001b[0m difference_confidence \u001b[38;5;241m=\u001b[39m np\u001b[38;5;241m.\u001b[39mdiff(X, axis\u001b[38;5;241m=\u001b[39m\u001b[38;5;241m1\u001b[39m)\u001b[38;5;241m.\u001b[39mmean(axis\u001b[38;5;241m=\u001b[39m\u001b[38;5;241m1\u001b[39m)\n\u001b[1;32m     39\u001b[0m \u001b[38;5;66;03m# Softmax operation\u001b[39;00m\n\u001b[0;32m---> 40\u001b[0m softmax_confidence \u001b[38;5;241m=\u001b[39m \u001b[43msoftmax\u001b[49m(X, axis\u001b[38;5;241m=\u001b[39m\u001b[38;5;241m1\u001b[39m)\n\u001b[1;32m     42\u001b[0m \u001b[38;5;66;03m# Taking top 5 values after Softmax\u001b[39;00m\n\u001b[1;32m     43\u001b[0m top_5_softmax \u001b[38;5;241m=\u001b[39m np\u001b[38;5;241m.\u001b[39msort(softmax_confidence, axis\u001b[38;5;241m=\u001b[39m\u001b[38;5;241m1\u001b[39m)[:, \u001b[38;5;241m-\u001b[39m\u001b[38;5;241m5\u001b[39m:]\n",
      "\u001b[0;31mNameError\u001b[0m: name 'softmax' is not defined"
     ]
    }
   ],
   "source": [
    "\n",
    "# Basic statistical features\n",
    "mean_confidence = np.mean(X, axis=1)\n",
    "std_confidence = np.std(X, axis=1)\n",
    "max_confidence = np.max(X, axis=1)\n",
    "min_confidence = np.min(X, axis=1)\n",
    "sum_confidence = np.sum(X, axis=1)\n",
    "median_confidence = np.median(X, axis=1)\n",
    "\n",
    "# Additional percentiles\n",
    "percentile_25 = np.percentile(X, 25, axis=1)\n",
    "percentile_75 = np.percentile(X, 75, axis=1)\n",
    "percentile_10 = np.percentile(X, 10, axis=1)\n",
    "percentile_90 = np.percentile(X, 90, axis=1)\n",
    "\n",
    "# Indices (positions) of max, min, median\n",
    "argmax_confidence = np.argmax(X, axis=1)\n",
    "argmin_confidence = np.argmin(X, axis=1)\n",
    "argmedian_confidence = np.argmin(np.abs(X - np.median(X, axis=1, keepdims=True)), axis=1)\n",
    "\n",
    "# Skewness and Kurtosis\n",
    "skew_confidence = np.apply_along_axis(lambda x: scipy.stats.skew(x), axis=1, arr=X)\n",
    "kurtosis_confidence = np.apply_along_axis(lambda x: scipy.stats.kurtosis(x), axis=1, arr=X)\n",
    "\n",
    "# Range (max - min)\n",
    "range_confidence = max_confidence - min_confidence\n",
    "\n",
    "# Mean Absolute Deviation (MAD)\n",
    "mad_confidence = np.mean(np.abs(X - np.mean(X, axis=1, keepdims=True)), axis=1)\n",
    "\n",
    "\n",
    "\n",
    "# Cumulative Sum and Product\n",
    "cumulative_sum_confidence = np.cumsum(X, axis=1).mean(axis=1)\n",
    "\n",
    "# Difference Between Consecutive Features and Moving Average\n",
    "difference_confidence = np.diff(X, axis=1).mean(axis=1)\n",
    "\n",
    "\n",
    "# Softmax operation\n",
    "softmax_confidence = softmax(X, axis=1)\n",
    "\n",
    "# Taking top 5 values after Softmax\n",
    "top_5_softmax = np.sort(softmax_confidence, axis=1)[:, -5:]\n",
    "\n",
    "# Features for each of the top 5 softmax values\n",
    "top_1_softmax = top_5_softmax[:, -1]\n",
    "top_2_softmax = top_5_softmax[:, -2]\n",
    "top_3_softmax = top_5_softmax[:, -3]\n",
    "top_4_softmax = top_5_softmax[:, -4]\n",
    "top_5_softmax = top_5_softmax[:, -5]\n",
    "\n",
    "# Combine all features into a single 2D array\n",
    "new_features = np.column_stack(\n",
    "    (mean_confidence, std_confidence, max_confidence, min_confidence, sum_confidence, \n",
    "     median_confidence, percentile_25, percentile_75, percentile_10, percentile_90, \n",
    "     argmax_confidence, argmin_confidence, argmedian_confidence, skew_confidence, kurtosis_confidence, \n",
    "     range_confidence, mad_confidence, cumulative_sum_confidence, difference_confidence,\n",
    "    top_1_softmax, top_2_softmax, top_3_softmax, top_4_softmax, top_5_softmax))\n",
    "\n",
    "\n",
    "\n"
   ]
  },
  {
   "cell_type": "code",
   "execution_count": 37,
   "id": "90d4518f-1820-42d5-9f6e-0631c6192e91",
   "metadata": {},
   "outputs": [
    {
     "name": "stderr",
     "output_type": "stream",
     "text": [
      "[nltk_data] Downloading package averaged_perceptron_tagger to\n",
      "[nltk_data]     /Users/brazhenko/nltk_data...\n",
      "[nltk_data]   Package averaged_perceptron_tagger is already up-to-\n",
      "[nltk_data]       date!\n",
      "[nltk_data] Downloading package punkt to /Users/brazhenko/nltk_data...\n",
      "[nltk_data]   Package punkt is already up-to-date!\n",
      "[nltk_data] Downloading package maxent_ne_chunker to\n",
      "[nltk_data]     /Users/brazhenko/nltk_data...\n",
      "[nltk_data]   Package maxent_ne_chunker is already up-to-date!\n",
      "[nltk_data] Downloading package words to /Users/brazhenko/nltk_data...\n",
      "[nltk_data]   Package words is already up-to-date!\n"
     ]
    }
   ],
   "source": [
    "import pandas as pd\n",
    "import numpy as np\n",
    "import nltk\n",
    "from sklearn.feature_extraction.text import TfidfVectorizer, CountVectorizer\n",
    "from textblob import TextBlob\n",
    "import textstat\n",
    "from gensim.models import Word2Vec\n",
    "from collections import Counter\n",
    "\n",
    "# Ensure the necessary NLTK data is downloaded\n",
    "nltk.download('averaged_perceptron_tagger')\n",
    "nltk.download('punkt')\n",
    "nltk.download('maxent_ne_chunker')\n",
    "nltk.download('words')\n",
    "\n",
    "def extract_features(df, text_column):\n",
    "    # Helper functions for different features\n",
    "    def length_based_features(text):\n",
    "        chars = len(text)\n",
    "        words = len(text.split())\n",
    "        avg_word_length = chars / words if words else 0\n",
    "        return [chars, words, avg_word_length]\n",
    "\n",
    "    def pos_features(text):\n",
    "        words = nltk.word_tokenize(text)\n",
    "        pos_tags = nltk.pos_tag(words)\n",
    "        pos_counts = Counter(tag for word, tag in pos_tags)\n",
    "        return list(pos_counts.values())\n",
    "\n",
    "    def ner_features(text):\n",
    "        words = nltk.word_tokenize(text)\n",
    "        pos_tags = nltk.pos_tag(words)\n",
    "        named_ents = nltk.ne_chunk(pos_tags, binary=True)\n",
    "        return len([chunk for chunk in named_ents if hasattr(chunk, 'label') and chunk.label() == 'NE'])\n",
    "\n",
    "    def sentiment_score(text):\n",
    "        return TextBlob(text).sentiment.polarity\n",
    "\n",
    "    def readability_scores(text):\n",
    "        flesch_reading = textstat.flesch_reading_ease(text)\n",
    "        gunning_fog = textstat.gunning_fog(text)\n",
    "        return [flesch_reading, gunning_fog]\n",
    "\n",
    "    # Initialize lists to store each feature\n",
    "    lengths, sentiments, readabilities, ners = [], [], [], []\n",
    "\n",
    "    # Iterate through each text entry and extract features\n",
    "    for text in df[text_column]:\n",
    "        lengths.append(length_based_features(text))\n",
    "        sentiments.append(sentiment_score(text))\n",
    "        readabilities.append(readability_scores(text))\n",
    "        ners.append(ner_features(text))\n",
    "\n",
    "    # Convert lists to NumPy arrays\n",
    "    lengths = np.array(lengths)\n",
    "    sentiments = np.array(sentiments).reshape(-1, 1)\n",
    "    readabilities = np.array(readabilities)\n",
    "    ners = np.array(ners).reshape(-1, 1)\n",
    "\n",
    "    # Concatenate all features into a single array\n",
    "    features = np.concatenate([lengths, sentiments, readabilities, ners], axis=1)\n",
    "\n",
    "    return features\n",
    "\n",
    "\n",
    "text_features = extract_features(q, 'text')\n"
   ]
  },
  {
   "cell_type": "code",
   "execution_count": 39,
   "id": "077570dc-24a7-46bc-bda8-1e0e7e7542b7",
   "metadata": {},
   "outputs": [],
   "source": [
    "combined_features = np.column_stack([new_features, text_features])"
   ]
  },
  {
   "cell_type": "code",
   "execution_count": null,
   "id": "bbaf7265-648b-481a-83c1-ae37bac0e58d",
   "metadata": {},
   "outputs": [],
   "source": []
  },
  {
   "cell_type": "code",
   "execution_count": 40,
   "id": "b16f7501-3182-4247-99b1-3e51540c7872",
   "metadata": {},
   "outputs": [
    {
     "name": "stdout",
     "output_type": "stream",
     "text": [
      "Columns with non-finite values: []\n"
     ]
    }
   ],
   "source": [
    "import numpy as np\n",
    "\n",
    "# Assuming 'your_array' is your NumPy array\n",
    "your_array = np.array(...)  # Replace with your actual array\n",
    "\n",
    "# Function to check if a column contains only finite values\n",
    "def has_only_finite_values(column):\n",
    "    return np.all(np.isfinite(column))\n",
    "\n",
    "# Identify columns that do not contain only finite values\n",
    "columns_with_non_finite_values = [i for i in range(combined_features.shape[1]) if not has_only_finite_values(combined_features[:, i])]\n",
    "\n",
    "print(\"Columns with non-finite values:\", columns_with_non_finite_values)\n"
   ]
  },
  {
   "cell_type": "code",
   "execution_count": 41,
   "id": "90ddb4c9-5947-4628-a895-1cd3ba16848c",
   "metadata": {},
   "outputs": [
    {
     "data": {
      "text/plain": [
       "(498150, 31)"
      ]
     },
     "execution_count": 41,
     "metadata": {},
     "output_type": "execute_result"
    }
   ],
   "source": [
    "combined_features.shape"
   ]
  },
  {
   "cell_type": "code",
   "execution_count": null,
   "id": "172738aa-fdae-44df-a9dc-5bb466c02209",
   "metadata": {},
   "outputs": [],
   "source": []
  },
  {
   "cell_type": "code",
   "execution_count": 42,
   "id": "5c80e802-7db8-4512-b0cf-15ced61995fb",
   "metadata": {},
   "outputs": [],
   "source": [
    "\n",
    "from sklearn.linear_model import LinearRegression\n",
    "from sklearn.metrics import mean_squared_error, r2_score"
   ]
  },
  {
   "cell_type": "code",
   "execution_count": 43,
   "id": "54605b38-26cf-4720-8cc5-41a17dc864de",
   "metadata": {},
   "outputs": [],
   "source": [
    "X_train, X_test, y_train, y_test = train_test_split(combined_features, y, test_size=0.2, random_state=42)\n"
   ]
  },
  {
   "cell_type": "code",
   "execution_count": 44,
   "id": "6ccaa335-5dcc-42d8-bac2-1ea2510cb6ed",
   "metadata": {},
   "outputs": [],
   "source": [
    "import xgboost as xgb\n"
   ]
  },
  {
   "cell_type": "code",
   "execution_count": 59,
   "id": "4093e488-dd36-4a57-91a8-d64862d478c3",
   "metadata": {},
   "outputs": [
    {
     "name": "stdout",
     "output_type": "stream",
     "text": [
      "Fitting 3 folds for each of 20 candidates, totalling 60 fits\n",
      "Best parameters found:  {'subsample': 1.0, 'n_estimators': 400, 'max_depth': 10, 'learning_rate': 0.01, 'colsample_bytree': 0.9}\n",
      "MSE: 8549465.413442042 R2: 0.5112186026323144\n"
     ]
    }
   ],
   "source": [
    "import xgboost as xgb\n",
    "from sklearn.model_selection import RandomizedSearchCV\n",
    "from sklearn.metrics import mean_squared_error, r2_score\n",
    "\n",
    "# Define the parameter grid to sample from\n",
    "param_distributions = {\n",
    "    'n_estimators': [100, 200, 300, 400, 500],\n",
    "    'learning_rate': [0.01, 0.05, 0.1, 0.2],\n",
    "    'max_depth': [3, 5, 7, 10],\n",
    "    'subsample': [0.6, 0.7, 0.8, 0.9, 1.0],\n",
    "    'colsample_bytree': [0.6, 0.7, 0.8, 0.9, 1.0],\n",
    "}\n",
    "\n",
    "# Create a base model\n",
    "xgb_model = xgb.XGBRegressor(objective='reg:squarederror', random_state=42)\n",
    "\n",
    "# Instantiate the randomized search model\n",
    "random_search = RandomizedSearchCV(estimator=xgb_model, param_distributions=param_distributions, \n",
    "                                   n_iter=20, cv=3, verbose=2, random_state=42, n_jobs=-1, \n",
    "                                   scoring='neg_mean_squared_error')\n",
    "\n",
    "# Fit the random search to the data\n",
    "random_search.fit(combined_features, y)\n",
    "\n",
    "# Print the best parameters\n",
    "print(\"Best parameters found: \", random_search.best_params_)\n",
    "\n",
    "# Use the best estimator to make predictions\n",
    "best_model = random_search.best_estimator_\n",
    "y_pred = best_model.predict(X_test)\n",
    "\n",
    "# Calculate metrics\n",
    "mse = mean_squared_error(y_test, y_pred)\n",
    "r2 = r2_score(y_test, y_pred)\n",
    "print(\"MSE:\", mse, \"R2:\", r2)\n"
   ]
  },
  {
   "cell_type": "code",
   "execution_count": null,
   "id": "060f5357-6924-41db-9a62-b3157551f34c",
   "metadata": {},
   "outputs": [],
   "source": []
  },
  {
   "cell_type": "code",
   "execution_count": 60,
   "id": "012a562d-93d7-4224-b69c-16106442b06a",
   "metadata": {},
   "outputs": [
    {
     "data": {
      "text/plain": [
       "['xgboost_model.joblib']"
      ]
     },
     "execution_count": 60,
     "metadata": {},
     "output_type": "execute_result"
    }
   ],
   "source": [
    "\n",
    "from joblib import dump\n",
    "dump(best_model, 'xgboost_model.joblib')\n"
   ]
  },
  {
   "cell_type": "code",
   "execution_count": 61,
   "id": "c3c9fde1-be4e-4c0e-a9a0-0200841446b6",
   "metadata": {},
   "outputs": [
    {
     "data": {
      "text/plain": [
       "<Axes: title={'center': 'Feature importance'}, xlabel='F score', ylabel='Features'>"
      ]
     },
     "execution_count": 61,
     "metadata": {},
     "output_type": "execute_result"
    },
    {
     "data": {
      "image/png": "[encoded data removed]",
      "text/plain": [
       "<Figure size 640x480 with 1 Axes>"
      ]
     },
     "metadata": {},
     "output_type": "display_data"
    },
    {
     "name": "stdout",
     "output_type": "stream",
     "text": [
      "[CV] END colsample_bytree=0.8, learning_rate=0.01, max_depth=7, n_estimators=300, subsample=0.6; total time=  44.9s\n",
      "[CV] END colsample_bytree=0.8, learning_rate=0.1, max_depth=10, n_estimators=500, subsample=0.6; total time= 1.9min\n",
      "[CV] END colsample_bytree=0.7, learning_rate=0.01, max_depth=7, n_estimators=400, subsample=0.7; total time=  57.7s\n",
      "[CV] END colsample_bytree=0.6, learning_rate=0.01, max_depth=10, n_estimators=300, subsample=0.8; total time= 2.1min\n",
      "[CV] END colsample_bytree=0.8, learning_rate=0.01, max_depth=7, n_estimators=500, subsample=0.7; total time= 1.8min\n",
      "[CV] END colsample_bytree=0.9, learning_rate=0.1, max_depth=7, n_estimators=200, subsample=1.0; total time=  24.6s\n",
      "[CV] END colsample_bytree=0.8, learning_rate=0.2, max_depth=5, n_estimators=200, subsample=0.6; total time=  19.2s\n",
      "[CV] END colsample_bytree=0.8, learning_rate=0.2, max_depth=5, n_estimators=200, subsample=0.6; total time=  18.0s\n",
      "[CV] END colsample_bytree=1.0, learning_rate=0.05, max_depth=3, n_estimators=500, subsample=1.0; total time=  32.5s\n",
      "[CV] END colsample_bytree=0.8, learning_rate=0.1, max_depth=5, n_estimators=400, subsample=1.0; total time=  31.5s\n",
      "[CV] END colsample_bytree=0.8, learning_rate=0.1, max_depth=5, n_estimators=400, subsample=1.0; total time=  31.8s\n",
      "[CV] END colsample_bytree=0.7, learning_rate=0.01, max_depth=7, n_estimators=400, subsample=0.7; total time=  58.2s\n",
      "[CV] END colsample_bytree=0.6, learning_rate=0.01, max_depth=10, n_estimators=300, subsample=0.8; total time= 2.2min\n",
      "[CV] END colsample_bytree=0.8, learning_rate=0.01, max_depth=7, n_estimators=500, subsample=0.7; total time= 1.8min\n",
      "[CV] END colsample_bytree=0.9, learning_rate=0.1, max_depth=7, n_estimators=200, subsample=1.0; total time=  24.4s\n",
      "[CV] END colsample_bytree=0.8, learning_rate=0.2, max_depth=5, n_estimators=200, subsample=0.6; total time=  19.4s\n",
      "[CV] END colsample_bytree=0.8, learning_rate=0.1, max_depth=10, n_estimators=500, subsample=0.6; total time= 1.9min\n",
      "[CV] END colsample_bytree=0.6, learning_rate=0.05, max_depth=3, n_estimators=500, subsample=0.7; total time=  33.6s\n",
      "[CV] END colsample_bytree=0.6, learning_rate=0.2, max_depth=5, n_estimators=200, subsample=0.6; total time=  20.5s\n",
      "[CV] END colsample_bytree=0.9, learning_rate=0.1, max_depth=10, n_estimators=200, subsample=0.8; total time= 1.2min\n",
      "[CV] END colsample_bytree=0.9, learning_rate=0.05, max_depth=10, n_estimators=500, subsample=0.7; total time= 3.1min\n",
      "[CV] END colsample_bytree=0.8, learning_rate=0.2, max_depth=5, n_estimators=100, subsample=0.7; total time=  10.6s\n",
      "[CV] END colsample_bytree=0.9, learning_rate=0.01, max_depth=10, n_estimators=400, subsample=1.0; total time= 2.1min\n",
      "[CV] END colsample_bytree=1.0, learning_rate=0.01, max_depth=5, n_estimators=300, subsample=0.9; total time=  31.6s\n",
      "[CV] END colsample_bytree=0.7, learning_rate=0.01, max_depth=7, n_estimators=400, subsample=0.7; total time=  58.5s\n",
      "[CV] END colsample_bytree=0.9, learning_rate=0.05, max_depth=10, n_estimators=500, subsample=0.7; total time= 3.2min\n",
      "[CV] END colsample_bytree=0.6, learning_rate=0.05, max_depth=5, n_estimators=200, subsample=0.6; total time=  26.4s\n",
      "[CV] END colsample_bytree=0.6, learning_rate=0.05, max_depth=5, n_estimators=200, subsample=0.6; total time=  28.3s\n",
      "[CV] END colsample_bytree=0.9, learning_rate=0.1, max_depth=7, n_estimators=200, subsample=1.0; total time=  24.2s\n",
      "[CV] END colsample_bytree=0.9, learning_rate=0.01, max_depth=10, n_estimators=400, subsample=1.0; total time= 2.0min\n",
      "[CV] END colsample_bytree=1.0, learning_rate=0.01, max_depth=5, n_estimators=300, subsample=0.9; total time=  33.0s\n",
      "[CV] END colsample_bytree=0.9, learning_rate=0.01, max_depth=5, n_estimators=300, subsample=0.9; total time=  34.0s\n",
      "[CV] END colsample_bytree=0.9, learning_rate=0.1, max_depth=10, n_estimators=200, subsample=0.8; total time= 1.2min\n",
      "[CV] END colsample_bytree=0.8, learning_rate=0.2, max_depth=3, n_estimators=500, subsample=0.9; total time=  49.4s\n",
      "[CV] END colsample_bytree=0.8, learning_rate=0.01, max_depth=7, n_estimators=500, subsample=0.7; total time= 1.9min\n",
      "[CV] END colsample_bytree=0.6, learning_rate=0.05, max_depth=5, n_estimators=200, subsample=0.6; total time=  28.0s\n"
     ]
    }
   ],
   "source": [
    "xgb.plot_importance(best_model)"
   ]
  },
  {
   "cell_type": "code",
   "execution_count": null,
   "id": "b6a2e874-89e1-4e8b-b108-26ba79764a26",
   "metadata": {},
   "outputs": [],
   "source": []
  }
 ],
 "metadata": {
  "kernelspec": {
   "display_name": "Python 3 (ipykernel)",
   "language": "python",
   "name": "python3"
  },
  "language_info": {
   "codemirror_mode": {
    "name": "ipython",
    "version": 3
   },
   "file_extension": ".py",
   "mimetype": "text/x-python",
   "name": "python",
   "nbconvert_exporter": "python",
   "pygments_lexer": "ipython3",
   "version": "3.10.13"
  }
 },
 "nbformat": 4,
 "nbformat_minor": 5
}
