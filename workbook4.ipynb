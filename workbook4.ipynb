{
 "cells": [
  {
   "cell_type": "code",
   "execution_count": 2,
   "metadata": {},
   "outputs": [],
   "source": [
    "import pandas as pd\n",
    "import numpy as np"
   ]
  },
  {
   "cell_type": "code",
   "execution_count": 3,
   "metadata": {},
   "outputs": [],
   "source": [
    "data_frame = pd.read_parquet('./dataset/relevance_challenge_valid.parquet')"
   ]
  },
  {
   "cell_type": "code",
   "execution_count": 4,
   "metadata": {},
   "outputs": [],
   "source": [
    "def softmax(x):\n",
    "    # Compute the exponential values for each element in the input array\n",
    "    exps = np.exp(x - np.max(x))\n",
    "\n",
    "    # Compute the softmax values by dividing the exponential of each element by the sum of exponentials\n",
    "    return exps / np.sum(exps)  "
   ]
  },
  {
   "cell_type": "code",
   "execution_count": 5,
   "metadata": {},
   "outputs": [],
   "source": [
    "data_frame['probabilities'] = data_frame['raw_prediction'].apply(softmax)"
   ]
  },
  {
   "cell_type": "code",
   "execution_count": 6,
   "metadata": {},
   "outputs": [],
   "source": [
    "data_frame['pred'] = data_frame['raw_prediction'].apply(lambda x: np.argmax(x))"
   ]
  },
  {
   "cell_type": "code",
   "execution_count": 7,
   "metadata": {},
   "outputs": [],
   "source": [
    "x_values = []\n",
    "y_values = []\n",
    "counts = []\n",
    "for j in range(3000):\n",
    "    filtered_data = data_frame[data_frame['pred'] == j]\n",
    "    if not filtered_data.empty:\n",
    "        x_values.append(j)\n",
    "        y_values.append(filtered_data['distance'].mean())\n",
    "        counts.append(len(filtered_data['distance']))\n"
   ]
  },
  {
   "cell_type": "code",
   "execution_count": 36,
   "metadata": {},
   "outputs": [
    {
     "data": {
      "text/html": [
       "<div>\n",
       "<style scoped>\n",
       "    .dataframe tbody tr th:only-of-type {\n",
       "        vertical-align: middle;\n",
       "    }\n",
       "\n",
       "    .dataframe tbody tr th {\n",
       "        vertical-align: top;\n",
       "    }\n",
       "\n",
       "    .dataframe thead th {\n",
       "        text-align: right;\n",
       "    }\n",
       "</style>\n",
       "<table border=\"1\" class=\"dataframe\">\n",
       "  <thead>\n",
       "    <tr style=\"text-align: right;\">\n",
       "      <th></th>\n",
       "      <th>feature</th>\n",
       "      <th>mean_distance</th>\n",
       "      <th>counts</th>\n",
       "    </tr>\n",
       "  </thead>\n",
       "  <tbody>\n",
       "    <tr>\n",
       "      <th>count</th>\n",
       "      <td>124.000000</td>\n",
       "      <td>124.000000</td>\n",
       "      <td>124.000000</td>\n",
       "    </tr>\n",
       "    <tr>\n",
       "      <th>mean</th>\n",
       "      <td>323.475806</td>\n",
       "      <td>3200.795064</td>\n",
       "      <td>273.645161</td>\n",
       "    </tr>\n",
       "    <tr>\n",
       "      <th>std</th>\n",
       "      <td>462.741626</td>\n",
       "      <td>1998.821039</td>\n",
       "      <td>248.174447</td>\n",
       "    </tr>\n",
       "    <tr>\n",
       "      <th>min</th>\n",
       "      <td>0.000000</td>\n",
       "      <td>493.514270</td>\n",
       "      <td>100.000000</td>\n",
       "    </tr>\n",
       "    <tr>\n",
       "      <th>25%</th>\n",
       "      <td>43.500000</td>\n",
       "      <td>1741.740018</td>\n",
       "      <td>129.750000</td>\n",
       "    </tr>\n",
       "    <tr>\n",
       "      <th>50%</th>\n",
       "      <td>139.000000</td>\n",
       "      <td>2797.943047</td>\n",
       "      <td>174.000000</td>\n",
       "    </tr>\n",
       "    <tr>\n",
       "      <th>75%</th>\n",
       "      <td>438.250000</td>\n",
       "      <td>4310.125920</td>\n",
       "      <td>311.250000</td>\n",
       "    </tr>\n",
       "    <tr>\n",
       "      <th>max</th>\n",
       "      <td>2347.000000</td>\n",
       "      <td>10564.948403</td>\n",
       "      <td>1388.000000</td>\n",
       "    </tr>\n",
       "  </tbody>\n",
       "</table>\n",
       "</div>"
      ],
      "text/plain": [
       "           feature  mean_distance       counts\n",
       "count   124.000000     124.000000   124.000000\n",
       "mean    323.475806    3200.795064   273.645161\n",
       "std     462.741626    1998.821039   248.174447\n",
       "min       0.000000     493.514270   100.000000\n",
       "25%      43.500000    1741.740018   129.750000\n",
       "50%     139.000000    2797.943047   174.000000\n",
       "75%     438.250000    4310.125920   311.250000\n",
       "max    2347.000000   10564.948403  1388.000000"
      ]
     },
     "execution_count": 36,
     "metadata": {},
     "output_type": "execute_result"
    }
   ],
   "source": [
    "mean_distance_pred = pd.DataFrame([x for x in zip(x_values,y_values,counts)])\n",
    "\n",
    "mean_distance_pred.rename(columns={0: 'feature'}, inplace=True)\n",
    "mean_distance_pred.rename(columns={1:'mean_distance'},inplace=True)\n",
    "mean_distance_pred.rename(columns={2:'counts'},inplace=True)\n",
    "\n",
    "mean_distance_pred_t = mean_distance_pred[mean_distance_pred['counts'] >= 100]\n",
    "mean_distance_pred_t.describe()"
   ]
  },
  {
   "cell_type": "code",
   "execution_count": 37,
   "metadata": {},
   "outputs": [],
   "source": [
    "valid_pred = mean_distance_pred['feature'].to_list()"
   ]
  },
  {
   "cell_type": "code",
   "execution_count": 38,
   "metadata": {},
   "outputs": [],
   "source": [
    "data_frame = data_frame[data_frame['pred'].isin(valid_pred)]"
   ]
  },
  {
   "cell_type": "code",
   "execution_count": 39,
   "metadata": {},
   "outputs": [
    {
     "data": {
      "text/plain": [
       "array([array([7.3262299e-06, 3.1586867e-06, 1.8454843e-06, ..., 3.4390405e-06,\n",
       "              1.7382778e-06, 1.4658847e-06], dtype=float32)                   ,\n",
       "       array([1.2205189e-06, 1.4805465e-06, 4.8549100e-06, ..., 9.6833992e-07,\n",
       "              1.8104382e-06, 1.8591088e-06], dtype=float32)                   ,\n",
       "       array([4.9958048e-06, 4.3765172e-06, 3.5352220e-06, ..., 4.1862900e-06,\n",
       "              1.8424200e-06, 1.5242344e-06], dtype=float32)                   ,\n",
       "       ...,\n",
       "       array([1.3649012e-03, 5.6243024e-04, 1.2793902e-03, ..., 7.1128510e-05,\n",
       "              4.2985790e-04, 2.2850082e-04], dtype=float32)                   ,\n",
       "       array([1.1903144e-03, 7.0683629e-04, 1.3186556e-03, ..., 8.2090621e-05,\n",
       "              2.4253859e-04, 2.1134102e-04], dtype=float32)                   ,\n",
       "       array([1.2246306e-03, 1.6635128e-03, 1.6548340e-03, ..., 5.1828687e-05,\n",
       "              2.4977321e-04, 3.1500243e-04], dtype=float32)                   ],\n",
       "      dtype=object)"
      ]
     },
     "execution_count": 39,
     "metadata": {},
     "output_type": "execute_result"
    }
   ],
   "source": [
    "bins = [0, 0.1, 0.2, 0.3, 1.0]\n",
    "\n",
    "probabilities = data_frame['probabilities'].values\n",
    "probabilities"
   ]
  },
  {
   "cell_type": "code",
   "execution_count": 40,
   "metadata": {},
   "outputs": [],
   "source": [
    "histograms = []\n",
    "for row in probabilities:\n",
    "    histograms.append(np.histogram(row, bins=bins)[0])"
   ]
  },
  {
   "cell_type": "code",
   "execution_count": 41,
   "metadata": {},
   "outputs": [
    {
     "data": {
      "text/plain": [
       "array([[0, 0, 1],\n",
       "       [0, 0, 1],\n",
       "       [0, 0, 1],\n",
       "       ...,\n",
       "       [0, 0, 0],\n",
       "       [0, 0, 0],\n",
       "       [0, 0, 0]])"
      ]
     },
     "execution_count": 41,
     "metadata": {},
     "output_type": "execute_result"
    }
   ],
   "source": [
    "histograms = np.array(histograms)\n",
    "histograms = np.delete(histograms, 0, 1)\n",
    "histograms"
   ]
  },
  {
   "cell_type": "code",
   "execution_count": 42,
   "metadata": {},
   "outputs": [],
   "source": [
    "column_names = [f'{bins[i]}_{bins[i+1]}' for i in range(len(bins) - 1)]\n",
    "histograms = histograms.T"
   ]
  },
  {
   "cell_type": "code",
   "execution_count": 43,
   "metadata": {},
   "outputs": [],
   "source": [
    "data_frame[column_names[1]] = histograms[0]\n",
    "data_frame[column_names[2]] = histograms[1]\n",
    "data_frame[column_names[3]] = histograms[2]"
   ]
  },
  {
   "cell_type": "code",
   "execution_count": 44,
   "metadata": {},
   "outputs": [
    {
     "data": {
      "text/plain": [
       "count    55350.000000\n",
       "mean      3260.978350\n",
       "std       4202.391081\n",
       "min          0.751505\n",
       "25%        378.965748\n",
       "50%       1254.280157\n",
       "75%       4598.103009\n",
       "max      19791.642460\n",
       "Name: distance, dtype: float64"
      ]
     },
     "execution_count": 44,
     "metadata": {},
     "output_type": "execute_result"
    }
   ],
   "source": [
    "data_frame['peaks'] = data_frame['0.1_0.2'] + data_frame['0.2_0.3'] + data_frame['0.3_1.0']\n",
    "data_frame.sort_values('confidence', ascending=True, inplace=True)\n",
    "data_frame['distance'].describe()"
   ]
  },
  {
   "cell_type": "code",
   "execution_count": 45,
   "metadata": {},
   "outputs": [
    {
     "name": "stderr",
     "output_type": "stream",
     "text": [
      "/tmp/ipykernel_3880/3143293065.py:2: SettingWithCopyWarning: \n",
      "A value is trying to be set on a copy of a slice from a DataFrame.\n",
      "Try using .loc[row_indexer,col_indexer] = value instead\n",
      "\n",
      "See the caveats in the documentation: https://pandas.pydata.org/pandas-docs/stable/user_guide/indexing.html#returning-a-view-versus-a-copy\n",
      "  data_set['features'] = data_set[['confidence' ,'peaks']].values.tolist()\n",
      "/tmp/ipykernel_3880/3143293065.py:3: SettingWithCopyWarning: \n",
      "A value is trying to be set on a copy of a slice from a DataFrame.\n",
      "Try using .loc[row_indexer,col_indexer] = value instead\n",
      "\n",
      "See the caveats in the documentation: https://pandas.pydata.org/pandas-docs/stable/user_guide/indexing.html#returning-a-view-versus-a-copy\n",
      "  data_set['label'] = data_set['distance'].apply(lambda x: 1/x)\n",
      "/tmp/ipykernel_3880/3143293065.py:5: SettingWithCopyWarning: \n",
      "A value is trying to be set on a copy of a slice from a DataFrame\n",
      "\n",
      "See the caveats in the documentation: https://pandas.pydata.org/pandas-docs/stable/user_guide/indexing.html#returning-a-view-versus-a-copy\n",
      "  data_set.drop(['confidence','peaks','distance'], axis=1, inplace=True)\n"
     ]
    }
   ],
   "source": [
    "data_set = data_frame[['confidence','peaks','distance']]\n",
    "data_set['features'] = data_set[['confidence' ,'peaks']].values.tolist()\n",
    "data_set['label'] = data_set['distance'].apply(lambda x: 1/x)\n",
    "\n",
    "data_set.drop(['confidence','peaks','distance'], axis=1, inplace=True)"
   ]
  },
  {
   "cell_type": "code",
   "execution_count": 46,
   "metadata": {},
   "outputs": [],
   "source": [
    "from sklearn.linear_model import LinearRegression"
   ]
  },
  {
   "cell_type": "code",
   "execution_count": 47,
   "metadata": {},
   "outputs": [
    {
     "data": {
      "text/html": [
       "<style>#sk-container-id-3 {color: black;background-color: white;}#sk-container-id-3 pre{padding: 0;}#sk-container-id-3 div.sk-toggleable {background-color: white;}#sk-container-id-3 label.sk-toggleable__label {cursor: pointer;display: block;width: 100%;margin-bottom: 0;padding: 0.3em;box-sizing: border-box;text-align: center;}#sk-container-id-3 label.sk-toggleable__label-arrow:before {content: \"▸\";float: left;margin-right: 0.25em;color: #696969;}#sk-container-id-3 label.sk-toggleable__label-arrow:hover:before {color: black;}#sk-container-id-3 div.sk-estimator:hover label.sk-toggleable__label-arrow:before {color: black;}#sk-container-id-3 div.sk-toggleable__content {max-height: 0;max-width: 0;overflow: hidden;text-align: left;background-color: #f0f8ff;}#sk-container-id-3 div.sk-toggleable__content pre {margin: 0.2em;color: black;border-radius: 0.25em;background-color: #f0f8ff;}#sk-container-id-3 input.sk-toggleable__control:checked~div.sk-toggleable__content {max-height: 200px;max-width: 100%;overflow: auto;}#sk-container-id-3 input.sk-toggleable__control:checked~label.sk-toggleable__label-arrow:before {content: \"▾\";}#sk-container-id-3 div.sk-estimator input.sk-toggleable__control:checked~label.sk-toggleable__label {background-color: #d4ebff;}#sk-container-id-3 div.sk-label input.sk-toggleable__control:checked~label.sk-toggleable__label {background-color: #d4ebff;}#sk-container-id-3 input.sk-hidden--visually {border: 0;clip: rect(1px 1px 1px 1px);clip: rect(1px, 1px, 1px, 1px);height: 1px;margin: -1px;overflow: hidden;padding: 0;position: absolute;width: 1px;}#sk-container-id-3 div.sk-estimator {font-family: monospace;background-color: #f0f8ff;border: 1px dotted black;border-radius: 0.25em;box-sizing: border-box;margin-bottom: 0.5em;}#sk-container-id-3 div.sk-estimator:hover {background-color: #d4ebff;}#sk-container-id-3 div.sk-parallel-item::after {content: \"\";width: 100%;border-bottom: 1px solid gray;flex-grow: 1;}#sk-container-id-3 div.sk-label:hover label.sk-toggleable__label {background-color: #d4ebff;}#sk-container-id-3 div.sk-serial::before {content: \"\";position: absolute;border-left: 1px solid gray;box-sizing: border-box;top: 0;bottom: 0;left: 50%;z-index: 0;}#sk-container-id-3 div.sk-serial {display: flex;flex-direction: column;align-items: center;background-color: white;padding-right: 0.2em;padding-left: 0.2em;position: relative;}#sk-container-id-3 div.sk-item {position: relative;z-index: 1;}#sk-container-id-3 div.sk-parallel {display: flex;align-items: stretch;justify-content: center;background-color: white;position: relative;}#sk-container-id-3 div.sk-item::before, #sk-container-id-3 div.sk-parallel-item::before {content: \"\";position: absolute;border-left: 1px solid gray;box-sizing: border-box;top: 0;bottom: 0;left: 50%;z-index: -1;}#sk-container-id-3 div.sk-parallel-item {display: flex;flex-direction: column;z-index: 1;position: relative;background-color: white;}#sk-container-id-3 div.sk-parallel-item:first-child::after {align-self: flex-end;width: 50%;}#sk-container-id-3 div.sk-parallel-item:last-child::after {align-self: flex-start;width: 50%;}#sk-container-id-3 div.sk-parallel-item:only-child::after {width: 0;}#sk-container-id-3 div.sk-dashed-wrapped {border: 1px dashed gray;margin: 0 0.4em 0.5em 0.4em;box-sizing: border-box;padding-bottom: 0.4em;background-color: white;}#sk-container-id-3 div.sk-label label {font-family: monospace;font-weight: bold;display: inline-block;line-height: 1.2em;}#sk-container-id-3 div.sk-label-container {text-align: center;}#sk-container-id-3 div.sk-container {/* jupyter's `normalize.less` sets `[hidden] { display: none; }` but bootstrap.min.css set `[hidden] { display: none !important; }` so we also need the `!important` here to be able to override the default hidden behavior on the sphinx rendered scikit-learn.org. See: https://github.com/scikit-learn/scikit-learn/issues/21755 */display: inline-block !important;position: relative;}#sk-container-id-3 div.sk-text-repr-fallback {display: none;}</style><div id=\"sk-container-id-3\" class=\"sk-top-container\"><div class=\"sk-text-repr-fallback\"><pre>LinearRegression()</pre><b>In a Jupyter environment, please rerun this cell to show the HTML representation or trust the notebook. <br />On GitHub, the HTML representation is unable to render, please try loading this page with nbviewer.org.</b></div><div class=\"sk-container\" hidden><div class=\"sk-item\"><div class=\"sk-estimator sk-toggleable\"><input class=\"sk-toggleable__control sk-hidden--visually\" id=\"sk-estimator-id-3\" type=\"checkbox\" checked><label for=\"sk-estimator-id-3\" class=\"sk-toggleable__label sk-toggleable__label-arrow\">LinearRegression</label><div class=\"sk-toggleable__content\"><pre>LinearRegression()</pre></div></div></div></div></div>"
      ],
      "text/plain": [
       "LinearRegression()"
      ]
     },
     "execution_count": 47,
     "metadata": {},
     "output_type": "execute_result"
    }
   ],
   "source": [
    "model = LinearRegression()\n",
    "model.fit(data_set['features'].tolist(), data_set['label'].tolist())"
   ]
  },
  {
   "cell_type": "code",
   "execution_count": 48,
   "metadata": {},
   "outputs": [
    {
     "data": {
      "text/plain": [
       "count     5535.000000\n",
       "mean       655.377445\n",
       "std       1986.663024\n",
       "min          2.974029\n",
       "25%         32.149999\n",
       "50%         82.422675\n",
       "75%        297.806394\n",
       "max      17147.333877\n",
       "Name: distance, dtype: float64"
      ]
     },
     "execution_count": 48,
     "metadata": {},
     "output_type": "execute_result"
    }
   ],
   "source": [
    "data_frame['score'] = data_frame['confidence'] * model.coef_[0] + data_frame['peaks'] * model.coef_[1]\n",
    "data_frame.sort_values('score', ascending=False, inplace=True)\n",
    "data_frame_filtered = data_frame.iloc[0:int(0.1*len(data_frame))]\n",
    "data_frame_filtered['distance'].describe()"
   ]
  },
  {
   "cell_type": "code",
   "execution_count": 49,
   "metadata": {},
   "outputs": [
    {
     "data": {
      "text/html": [
       "<div>\n",
       "<style scoped>\n",
       "    .dataframe tbody tr th:only-of-type {\n",
       "        vertical-align: middle;\n",
       "    }\n",
       "\n",
       "    .dataframe tbody tr th {\n",
       "        vertical-align: top;\n",
       "    }\n",
       "\n",
       "    .dataframe thead th {\n",
       "        text-align: right;\n",
       "    }\n",
       "</style>\n",
       "<table border=\"1\" class=\"dataframe\">\n",
       "  <thead>\n",
       "    <tr style=\"text-align: right;\">\n",
       "      <th></th>\n",
       "      <th>label</th>\n",
       "      <th>confidence</th>\n",
       "      <th>distance</th>\n",
       "      <th>pred</th>\n",
       "      <th>0.1_0.2</th>\n",
       "      <th>0.2_0.3</th>\n",
       "      <th>0.3_1.0</th>\n",
       "      <th>peaks</th>\n",
       "      <th>score</th>\n",
       "    </tr>\n",
       "  </thead>\n",
       "  <tbody>\n",
       "    <tr>\n",
       "      <th>count</th>\n",
       "      <td>5535.000000</td>\n",
       "      <td>5535.000000</td>\n",
       "      <td>5535.000000</td>\n",
       "      <td>5535.000000</td>\n",
       "      <td>5535.000000</td>\n",
       "      <td>5535.000000</td>\n",
       "      <td>5535.000000</td>\n",
       "      <td>5535.000000</td>\n",
       "      <td>5535.000000</td>\n",
       "    </tr>\n",
       "    <tr>\n",
       "      <th>mean</th>\n",
       "      <td>1117.669919</td>\n",
       "      <td>0.499479</td>\n",
       "      <td>655.377445</td>\n",
       "      <td>824.029088</td>\n",
       "      <td>0.852575</td>\n",
       "      <td>0.364408</td>\n",
       "      <td>0.867931</td>\n",
       "      <td>2.084914</td>\n",
       "      <td>0.021479</td>\n",
       "    </tr>\n",
       "    <tr>\n",
       "      <th>std</th>\n",
       "      <td>868.671302</td>\n",
       "      <td>0.226955</td>\n",
       "      <td>1986.663024</td>\n",
       "      <td>790.498971</td>\n",
       "      <td>1.303556</td>\n",
       "      <td>0.617184</td>\n",
       "      <td>0.550398</td>\n",
       "      <td>1.176975</td>\n",
       "      <td>0.007152</td>\n",
       "    </tr>\n",
       "    <tr>\n",
       "      <th>min</th>\n",
       "      <td>1.000000</td>\n",
       "      <td>0.124816</td>\n",
       "      <td>2.974029</td>\n",
       "      <td>1.000000</td>\n",
       "      <td>0.000000</td>\n",
       "      <td>0.000000</td>\n",
       "      <td>0.000000</td>\n",
       "      <td>1.000000</td>\n",
       "      <td>0.012582</td>\n",
       "    </tr>\n",
       "    <tr>\n",
       "      <th>25%</th>\n",
       "      <td>312.000000</td>\n",
       "      <td>0.310683</td>\n",
       "      <td>32.149999</td>\n",
       "      <td>208.000000</td>\n",
       "      <td>0.000000</td>\n",
       "      <td>0.000000</td>\n",
       "      <td>1.000000</td>\n",
       "      <td>1.000000</td>\n",
       "      <td>0.015316</td>\n",
       "    </tr>\n",
       "    <tr>\n",
       "      <th>50%</th>\n",
       "      <td>928.000000</td>\n",
       "      <td>0.453711</td>\n",
       "      <td>82.422675</td>\n",
       "      <td>531.000000</td>\n",
       "      <td>0.000000</td>\n",
       "      <td>0.000000</td>\n",
       "      <td>1.000000</td>\n",
       "      <td>2.000000</td>\n",
       "      <td>0.019527</td>\n",
       "    </tr>\n",
       "    <tr>\n",
       "      <th>75%</th>\n",
       "      <td>1864.500000</td>\n",
       "      <td>0.676044</td>\n",
       "      <td>297.806394</td>\n",
       "      <td>1243.000000</td>\n",
       "      <td>1.000000</td>\n",
       "      <td>1.000000</td>\n",
       "      <td>1.000000</td>\n",
       "      <td>3.000000</td>\n",
       "      <td>0.026776</td>\n",
       "    </tr>\n",
       "    <tr>\n",
       "      <th>max</th>\n",
       "      <td>2995.000000</td>\n",
       "      <td>0.989569</td>\n",
       "      <td>17147.333877</td>\n",
       "      <td>2995.000000</td>\n",
       "      <td>6.000000</td>\n",
       "      <td>3.000000</td>\n",
       "      <td>2.000000</td>\n",
       "      <td>6.000000</td>\n",
       "      <td>0.037884</td>\n",
       "    </tr>\n",
       "  </tbody>\n",
       "</table>\n",
       "</div>"
      ],
      "text/plain": [
       "             label   confidence      distance         pred      0.1_0.2  \\\n",
       "count  5535.000000  5535.000000   5535.000000  5535.000000  5535.000000   \n",
       "mean   1117.669919     0.499479    655.377445   824.029088     0.852575   \n",
       "std     868.671302     0.226955   1986.663024   790.498971     1.303556   \n",
       "min       1.000000     0.124816      2.974029     1.000000     0.000000   \n",
       "25%     312.000000     0.310683     32.149999   208.000000     0.000000   \n",
       "50%     928.000000     0.453711     82.422675   531.000000     0.000000   \n",
       "75%    1864.500000     0.676044    297.806394  1243.000000     1.000000   \n",
       "max    2995.000000     0.989569  17147.333877  2995.000000     6.000000   \n",
       "\n",
       "           0.2_0.3      0.3_1.0        peaks        score  \n",
       "count  5535.000000  5535.000000  5535.000000  5535.000000  \n",
       "mean      0.364408     0.867931     2.084914     0.021479  \n",
       "std       0.617184     0.550398     1.176975     0.007152  \n",
       "min       0.000000     0.000000     1.000000     0.012582  \n",
       "25%       0.000000     1.000000     1.000000     0.015316  \n",
       "50%       0.000000     1.000000     2.000000     0.019527  \n",
       "75%       1.000000     1.000000     3.000000     0.026776  \n",
       "max       3.000000     2.000000     6.000000     0.037884  "
      ]
     },
     "execution_count": 49,
     "metadata": {},
     "output_type": "execute_result"
    }
   ],
   "source": [
    "data_frame_filtered.describe()"
   ]
  },
  {
   "cell_type": "code",
   "execution_count": null,
   "metadata": {},
   "outputs": [],
   "source": []
  }
 ],
 "metadata": {
  "kernelspec": {
   "display_name": "Python 3",
   "language": "python",
   "name": "python3"
  },
  "language_info": {
   "codemirror_mode": {
    "name": "ipython",
    "version": 3
   },
   "file_extension": ".py",
   "mimetype": "text/x-python",
   "name": "python",
   "nbconvert_exporter": "python",
   "pygments_lexer": "ipython3",
   "version": "3.10.12"
  }
 },
 "nbformat": 4,
 "nbformat_minor": 2
}
