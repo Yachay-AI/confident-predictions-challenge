{
 "cells": [
  {
   "cell_type": "code",
   "execution_count": 1,
   "metadata": {},
   "outputs": [],
   "source": [
    "import pandas as pd\n",
    "import numpy as np"
   ]
  },
  {
   "cell_type": "code",
   "execution_count": 2,
   "metadata": {},
   "outputs": [],
   "source": [
    "data_frame = pd.read_parquet('./dataset/relevance_challenge_valid.parquet')"
   ]
  },
  {
   "cell_type": "code",
   "execution_count": 3,
   "metadata": {},
   "outputs": [],
   "source": [
    "def softmax(x):\n",
    "    # Compute the exponential values for each element in the input array\n",
    "    exps = np.exp(x - np.max(x))\n",
    "\n",
    "    # Compute the softmax values by dividing the exponential of each element by the sum of exponentials\n",
    "    return exps / np.sum(exps)  "
   ]
  },
  {
   "cell_type": "code",
   "execution_count": 4,
   "metadata": {},
   "outputs": [],
   "source": [
    "data_frame['probabilities'] = data_frame['raw_prediction'].apply(softmax)"
   ]
  },
  {
   "cell_type": "code",
   "execution_count": 5,
   "metadata": {},
   "outputs": [
    {
     "data": {
      "text/plain": [
       "array([array([1.0701745e-05, 3.0589050e-03, 1.1691522e-05, ..., 2.6032150e-05,\n",
       "              1.1091998e-05, 2.5502461e-05], dtype=float32)                   ,\n",
       "       array([4.49231920e-05, 4.37965238e-04, 7.01508368e-04, ...,\n",
       "              5.86358547e-05, 1.19782715e-04, 1.44674719e-04], dtype=float32),\n",
       "       array([6.8960690e-05, 5.7571520e-05, 6.7080755e-04, ..., 1.5246231e-04,\n",
       "              2.9068040e-05, 2.0424993e-04], dtype=float32)                   ,\n",
       "       ...,\n",
       "       array([7.9940692e-05, 1.2463288e-04, 5.2878973e-03, ..., 4.0360184e-05,\n",
       "              6.9534231e-05, 3.8948891e-04], dtype=float32)                   ,\n",
       "       array([1.7136848e-04, 7.1163510e-04, 1.3841296e-04, ..., 6.5322194e-05,\n",
       "              2.1939288e-04, 3.6347017e-05], dtype=float32)                   ,\n",
       "       array([1.6614320e-03, 5.0464903e-05, 1.1213181e-04, ..., 3.3844783e-05,\n",
       "              4.2440792e-05, 3.4518613e-05], dtype=float32)                   ],\n",
       "      dtype=object)"
      ]
     },
     "execution_count": 5,
     "metadata": {},
     "output_type": "execute_result"
    }
   ],
   "source": [
    "bins = [0, 0.1, 0.2, 0.3, 1.0]\n",
    "\n",
    "probabilities = data_frame['probabilities'].values\n",
    "probabilities"
   ]
  },
  {
   "cell_type": "code",
   "execution_count": 6,
   "metadata": {},
   "outputs": [],
   "source": [
    "histograms = []\n",
    "for row in probabilities:\n",
    "    histograms.append(np.histogram(row, bins=bins)[0])"
   ]
  },
  {
   "cell_type": "code",
   "execution_count": 7,
   "metadata": {},
   "outputs": [
    {
     "data": {
      "text/plain": [
       "array([[0, 0, 0],\n",
       "       [1, 0, 0],\n",
       "       [1, 0, 0],\n",
       "       ...,\n",
       "       [0, 0, 0],\n",
       "       [0, 0, 0],\n",
       "       [0, 0, 0]])"
      ]
     },
     "execution_count": 7,
     "metadata": {},
     "output_type": "execute_result"
    }
   ],
   "source": [
    "histograms = np.array(histograms)\n",
    "histograms = np.delete(histograms, 0, 1)\n",
    "histograms"
   ]
  },
  {
   "cell_type": "code",
   "execution_count": 8,
   "metadata": {},
   "outputs": [],
   "source": [
    "column_names = [f'{bins[i]}_{bins[i+1]}' for i in range(len(bins) - 1)]\n",
    "\n",
    "histograms = histograms.T"
   ]
  },
  {
   "cell_type": "code",
   "execution_count": 9,
   "metadata": {},
   "outputs": [],
   "source": [
    "data_frame[column_names[1]] = histograms[0]\n",
    "data_frame[column_names[2]] = histograms[1]\n",
    "data_frame[column_names[3]] = histograms[2]"
   ]
  },
  {
   "cell_type": "code",
   "execution_count": 10,
   "metadata": {},
   "outputs": [
    {
     "data": {
      "text/html": [
       "<div>\n",
       "<style scoped>\n",
       "    .dataframe tbody tr th:only-of-type {\n",
       "        vertical-align: middle;\n",
       "    }\n",
       "\n",
       "    .dataframe tbody tr th {\n",
       "        vertical-align: top;\n",
       "    }\n",
       "\n",
       "    .dataframe thead th {\n",
       "        text-align: right;\n",
       "    }\n",
       "</style>\n",
       "<table border=\"1\" class=\"dataframe\">\n",
       "  <thead>\n",
       "    <tr style=\"text-align: right;\">\n",
       "      <th></th>\n",
       "      <th>text</th>\n",
       "      <th>coordinates</th>\n",
       "      <th>label</th>\n",
       "      <th>raw_prediction</th>\n",
       "      <th>confidence</th>\n",
       "      <th>distance</th>\n",
       "      <th>probabilities</th>\n",
       "      <th>0.1_0.2</th>\n",
       "      <th>0.2_0.3</th>\n",
       "      <th>0.3_1.0</th>\n",
       "    </tr>\n",
       "  </thead>\n",
       "  <tbody>\n",
       "    <tr>\n",
       "      <th>246274</th>\n",
       "      <td>i'm at jalboot village in al ahmadi https://t....</td>\n",
       "      <td>[47.78220261841334, 28.796369578665622]</td>\n",
       "      <td>1478</td>\n",
       "      <td>[-0.16533367, 5.490072, -0.07687697, -0.028137...</td>\n",
       "      <td>0.097776</td>\n",
       "      <td>413.620188</td>\n",
       "      <td>[1.0701745e-05, 0.003058905, 1.1691522e-05, 1....</td>\n",
       "      <td>0</td>\n",
       "      <td>0</td>\n",
       "      <td>0</td>\n",
       "    </tr>\n",
       "    <tr>\n",
       "      <th>19954</th>\n",
       "      <td>just posted a photo @ fringes https://t.co/ma1...</td>\n",
       "      <td>[-114.60882437411358, 51.21439841204866]</td>\n",
       "      <td>469</td>\n",
       "      <td>[-2.382054, -0.10486849, 0.36622486, -0.755341...</td>\n",
       "      <td>0.158510</td>\n",
       "      <td>7096.152333</td>\n",
       "      <td>[4.4923192e-05, 0.00043796524, 0.00070150837, ...</td>\n",
       "      <td>1</td>\n",
       "      <td>0</td>\n",
       "      <td>0</td>\n",
       "    </tr>\n",
       "    <tr>\n",
       "      <th>4850</th>\n",
       "      <td>ok, cleveland. here's the plan.\\n\\nwe need you...</td>\n",
       "      <td>[-75.0323028333211, 39.476737451506004]</td>\n",
       "      <td>385</td>\n",
       "      <td>[-2.481499, -2.6620083, -0.20655325, -0.289278...</td>\n",
       "      <td>0.175566</td>\n",
       "      <td>607.165365</td>\n",
       "      <td>[6.896069e-05, 5.757152e-05, 0.00067080755, 0....</td>\n",
       "      <td>1</td>\n",
       "      <td>0</td>\n",
       "      <td>0</td>\n",
       "    </tr>\n",
       "    <tr>\n",
       "      <th>108015</th>\n",
       "      <td>@maisamo15677972 esgotada</td>\n",
       "      <td>[-46.45847010250085, -5.46301167598722]</td>\n",
       "      <td>2323</td>\n",
       "      <td>[3.0630562, -1.9455369, -1.4932183, -1.8799204...</td>\n",
       "      <td>0.015767</td>\n",
       "      <td>1200.366641</td>\n",
       "      <td>[0.010265744, 6.85782e-05, 0.0001078017, 7.322...</td>\n",
       "      <td>0</td>\n",
       "      <td>0</td>\n",
       "      <td>0</td>\n",
       "    </tr>\n",
       "    <tr>\n",
       "      <th>278357</th>\n",
       "      <td>@mzfrancesfx @moore10112 perfect date night!!</td>\n",
       "      <td>[-91.9513874234886, 42.12479709049989]</td>\n",
       "      <td>682</td>\n",
       "      <td>[-2.7112045, -2.0834854, 0.080568545, -0.49260...</td>\n",
       "      <td>0.010079</td>\n",
       "      <td>6900.667485</td>\n",
       "      <td>[0.00014184894, 0.00026573037, 0.0023135445, 0...</td>\n",
       "      <td>0</td>\n",
       "      <td>0</td>\n",
       "      <td>0</td>\n",
       "    </tr>\n",
       "  </tbody>\n",
       "</table>\n",
       "</div>"
      ],
      "text/plain": [
       "                                                     text  \\\n",
       "246274  i'm at jalboot village in al ahmadi https://t....   \n",
       "19954   just posted a photo @ fringes https://t.co/ma1...   \n",
       "4850    ok, cleveland. here's the plan.\\n\\nwe need you...   \n",
       "108015                          @maisamo15677972 esgotada   \n",
       "278357      @mzfrancesfx @moore10112 perfect date night!!   \n",
       "\n",
       "                                     coordinates  label  \\\n",
       "246274   [47.78220261841334, 28.796369578665622]   1478   \n",
       "19954   [-114.60882437411358, 51.21439841204866]    469   \n",
       "4850     [-75.0323028333211, 39.476737451506004]    385   \n",
       "108015   [-46.45847010250085, -5.46301167598722]   2323   \n",
       "278357    [-91.9513874234886, 42.12479709049989]    682   \n",
       "\n",
       "                                           raw_prediction  confidence  \\\n",
       "246274  [-0.16533367, 5.490072, -0.07687697, -0.028137...    0.097776   \n",
       "19954   [-2.382054, -0.10486849, 0.36622486, -0.755341...    0.158510   \n",
       "4850    [-2.481499, -2.6620083, -0.20655325, -0.289278...    0.175566   \n",
       "108015  [3.0630562, -1.9455369, -1.4932183, -1.8799204...    0.015767   \n",
       "278357  [-2.7112045, -2.0834854, 0.080568545, -0.49260...    0.010079   \n",
       "\n",
       "           distance                                      probabilities  \\\n",
       "246274   413.620188  [1.0701745e-05, 0.003058905, 1.1691522e-05, 1....   \n",
       "19954   7096.152333  [4.4923192e-05, 0.00043796524, 0.00070150837, ...   \n",
       "4850     607.165365  [6.896069e-05, 5.757152e-05, 0.00067080755, 0....   \n",
       "108015  1200.366641  [0.010265744, 6.85782e-05, 0.0001078017, 7.322...   \n",
       "278357  6900.667485  [0.00014184894, 0.00026573037, 0.0023135445, 0...   \n",
       "\n",
       "        0.1_0.2  0.2_0.3  0.3_1.0  \n",
       "246274        0        0        0  \n",
       "19954         1        0        0  \n",
       "4850          1        0        0  \n",
       "108015        0        0        0  \n",
       "278357        0        0        0  "
      ]
     },
     "execution_count": 10,
     "metadata": {},
     "output_type": "execute_result"
    }
   ],
   "source": [
    "data_frame.head(5)"
   ]
  },
  {
   "cell_type": "code",
   "execution_count": 11,
   "metadata": {},
   "outputs": [
    {
     "name": "stderr",
     "output_type": "stream",
     "text": [
      "/tmp/ipykernel_18361/3443682362.py:3: SettingWithCopyWarning: \n",
      "A value is trying to be set on a copy of a slice from a DataFrame.\n",
      "Try using .loc[row_indexer,col_indexer] = value instead\n",
      "\n",
      "See the caveats in the documentation: https://pandas.pydata.org/pandas-docs/stable/user_guide/indexing.html#returning-a-view-versus-a-copy\n",
      "  peaks_data_frame['0.1'] = peaks_data_frame['0.1_0.2'] + peaks_data_frame['0.2_0.3'] + peaks_data_frame['0.3_1.0']\n",
      "/tmp/ipykernel_18361/3443682362.py:4: SettingWithCopyWarning: \n",
      "A value is trying to be set on a copy of a slice from a DataFrame.\n",
      "Try using .loc[row_indexer,col_indexer] = value instead\n",
      "\n",
      "See the caveats in the documentation: https://pandas.pydata.org/pandas-docs/stable/user_guide/indexing.html#returning-a-view-versus-a-copy\n",
      "  peaks_data_frame['0.2'] = peaks_data_frame['0.2_0.3'] + peaks_data_frame['0.3_1.0']\n",
      "/tmp/ipykernel_18361/3443682362.py:5: SettingWithCopyWarning: \n",
      "A value is trying to be set on a copy of a slice from a DataFrame.\n",
      "Try using .loc[row_indexer,col_indexer] = value instead\n",
      "\n",
      "See the caveats in the documentation: https://pandas.pydata.org/pandas-docs/stable/user_guide/indexing.html#returning-a-view-versus-a-copy\n",
      "  peaks_data_frame['0.3'] = peaks_data_frame['0.3_1.0']\n",
      "/tmp/ipykernel_18361/3443682362.py:7: SettingWithCopyWarning: \n",
      "A value is trying to be set on a copy of a slice from a DataFrame\n",
      "\n",
      "See the caveats in the documentation: https://pandas.pydata.org/pandas-docs/stable/user_guide/indexing.html#returning-a-view-versus-a-copy\n",
      "  peaks_data_frame.drop(['0.1_0.2', '0.2_0.3', '0.3_1.0'], axis=1, inplace=True)\n"
     ]
    }
   ],
   "source": [
    "data_frame = data_frame.sort_values('distance',ascending=False)\n",
    "peaks_data_frame = data_frame[['0.1_0.2', '0.2_0.3', '0.3_1.0','distance']]\n",
    "peaks_data_frame['0.1'] = peaks_data_frame['0.1_0.2'] + peaks_data_frame['0.2_0.3'] + peaks_data_frame['0.3_1.0']\n",
    "peaks_data_frame['0.2'] = peaks_data_frame['0.2_0.3'] + peaks_data_frame['0.3_1.0']\n",
    "peaks_data_frame['0.3'] = peaks_data_frame['0.3_1.0']\n",
    "\n",
    "peaks_data_frame.drop(['0.1_0.2', '0.2_0.3', '0.3_1.0'], axis=1, inplace=True)"
   ]
  },
  {
   "cell_type": "code",
   "execution_count": 12,
   "metadata": {},
   "outputs": [
    {
     "data": {
      "image/png": "[encoded data removed]",
      "text/plain": [
       "<Figure size 640x480 with 1 Axes>"
      ]
     },
     "metadata": {},
     "output_type": "display_data"
    }
   ],
   "source": [
    "import matplotlib.pyplot as plt\n",
    "\n",
    "# 0.1\n",
    "\n",
    "n_rows = 3000\n",
    "fig, ax = plt.subplots(sharex=True, sharey=True)\n",
    "\n",
    "for j in range(n_rows):\n",
    "    y_values = peaks_data_frame['distance'].iloc[j]\n",
    "    x_values = peaks_data_frame['0.1'].iloc[j]\n",
    "    ax.scatter(x_values, y_values, s=4, alpha=1)\n",
    "\n",
    "plt.show()"
   ]
  },
  {
   "cell_type": "code",
   "execution_count": 60,
   "metadata": {},
   "outputs": [
    {
     "data": {
      "image/png": "[encoded data removed]",
      "text/plain": [
       "<Figure size 640x480 with 1 Axes>"
      ]
     },
     "metadata": {},
     "output_type": "display_data"
    }
   ],
   "source": [
    "# 0.2\n",
    "\n",
    "n_rows = 3000\n",
    "fig, ax = plt.subplots(sharex=True, sharey=True)\n",
    "\n",
    "for j in range(n_rows):\n",
    "    y_values = peaks_data_frame['distance'].iloc[j]\n",
    "    x_values = peaks_data_frame['0.2'].iloc[j]\n",
    "    ax.scatter(x_values, y_values, s=4, alpha=1)\n",
    "\n",
    "plt.show()"
   ]
  },
  {
   "cell_type": "code",
   "execution_count": 61,
   "metadata": {},
   "outputs": [
    {
     "data": {
      "image/png": "[encoded data removed]",
      "text/plain": [
       "<Figure size 640x480 with 1 Axes>"
      ]
     },
     "metadata": {},
     "output_type": "display_data"
    }
   ],
   "source": [
    "#0.3\n",
    "\n",
    "n_rows = 1000\n",
    "\n",
    "fig, ax = plt.subplots(sharex=True, sharey=True)\n",
    "\n",
    "for j in range(n_rows):\n",
    "    y_values = peaks_data_frame['distance'].iloc[j]\n",
    "    x_values = peaks_data_frame['0.3'].iloc[j]\n",
    "    ax.scatter(x_values, y_values, s=4, alpha=1)\n",
    "    \n",
    "plt.show()"
   ]
  },
  {
   "cell_type": "code",
   "execution_count": 62,
   "metadata": {},
   "outputs": [],
   "source": [
    "peaks_data_frame = peaks_data_frame.sort_values('distance', ascending=True).iloc[0:int(0.1*len(data_frame))]"
   ]
  },
  {
   "cell_type": "code",
   "execution_count": 63,
   "metadata": {},
   "outputs": [
    {
     "data": {
      "text/plain": [
       "0    1898\n",
       "1    1671\n",
       "2    1142\n",
       "3     554\n",
       "4     209\n",
       "5      55\n",
       "6       6\n",
       "Name: 0.1, dtype: int64"
      ]
     },
     "execution_count": 63,
     "metadata": {},
     "output_type": "execute_result"
    }
   ],
   "source": [
    "peaks_data_frame['0.1'].value_counts()"
   ]
  },
  {
   "cell_type": "code",
   "execution_count": 64,
   "metadata": {},
   "outputs": [
    {
     "data": {
      "text/plain": [
       "0    2800\n",
       "1    1978\n",
       "2     697\n",
       "3      60\n",
       "Name: 0.2, dtype: int64"
      ]
     },
     "execution_count": 64,
     "metadata": {},
     "output_type": "execute_result"
    }
   ],
   "source": [
    "peaks_data_frame['0.2'].value_counts()"
   ]
  },
  {
   "cell_type": "code",
   "execution_count": 65,
   "metadata": {},
   "outputs": [
    {
     "data": {
      "text/plain": [
       "0    3331\n",
       "1    1860\n",
       "2     344\n",
       "Name: 0.3, dtype: int64"
      ]
     },
     "execution_count": 65,
     "metadata": {},
     "output_type": "execute_result"
    }
   ],
   "source": [
    "peaks_data_frame['0.3'].value_counts()"
   ]
  },
  {
   "cell_type": "code",
   "execution_count": 115,
   "metadata": {},
   "outputs": [
    {
     "name": "stderr",
     "output_type": "stream",
     "text": [
      "/tmp/ipykernel_13499/2567935389.py:2: FutureWarning: The frame.append method is deprecated and will be removed from pandas in a future version. Use pandas.concat instead.\n",
      "  data_frame_1 = data_frame_1.append(data_frame[ data_frame['0.1_0.2'] +data_frame['0.2_0.3']+data_frame['0.3_1.0'] == 2].iloc[0:400])\n",
      "/tmp/ipykernel_13499/2567935389.py:3: FutureWarning: The frame.append method is deprecated and will be removed from pandas in a future version. Use pandas.concat instead.\n",
      "  data_frame_1 = data_frame_1.append(data_frame[ data_frame['0.1_0.2'] +data_frame['0.2_0.3']+data_frame['0.3_1.0'] == 3].iloc[0:400])\n",
      "/tmp/ipykernel_13499/2567935389.py:4: FutureWarning: The frame.append method is deprecated and will be removed from pandas in a future version. Use pandas.concat instead.\n",
      "  data_frame_1 = data_frame_1.append(data_frame[ data_frame['0.1_0.2'] +data_frame['0.2_0.3']+data_frame['0.3_1.0'] == 4].iloc[0:400])\n",
      "/tmp/ipykernel_13499/2567935389.py:5: FutureWarning: The frame.append method is deprecated and will be removed from pandas in a future version. Use pandas.concat instead.\n",
      "  data_frame_1 = data_frame_1.append(data_frame[ data_frame['0.1_0.2'] +data_frame['0.2_0.3']+data_frame['0.3_1.0'] == 5].iloc[0:400])\n"
     ]
    }
   ],
   "source": [
    "data_frame_1 = data_frame[ data_frame['0.1_0.2'] +data_frame['0.2_0.3']+data_frame['0.3_1.0'] == 1].iloc[0:400]\n",
    "data_frame_1 = data_frame_1.append(data_frame[ data_frame['0.1_0.2'] +data_frame['0.2_0.3']+data_frame['0.3_1.0'] == 2].iloc[0:400])\n",
    "data_frame_1 = data_frame_1.append(data_frame[ data_frame['0.1_0.2'] +data_frame['0.2_0.3']+data_frame['0.3_1.0'] == 3].iloc[0:400])\n",
    "data_frame_1 = data_frame_1.append(data_frame[ data_frame['0.1_0.2'] +data_frame['0.2_0.3']+data_frame['0.3_1.0'] == 4].iloc[0:400])\n",
    "data_frame_1 = data_frame_1.append(data_frame[ data_frame['0.1_0.2'] +data_frame['0.2_0.3']+data_frame['0.3_1.0'] == 5].iloc[0:400])"
   ]
  },
  {
   "cell_type": "code",
   "execution_count": 116,
   "metadata": {},
   "outputs": [
    {
     "data": {
      "text/plain": [
       "1    455\n",
       "2    362\n",
       "3    362\n",
       "4    255\n",
       "0    237\n",
       "5    132\n",
       "Name: 0.1_0.2, dtype: int64"
      ]
     },
     "execution_count": 116,
     "metadata": {},
     "output_type": "execute_result"
    }
   ],
   "source": [
    "data_frame_1['0.1_0.2'].value_counts()"
   ]
  },
  {
   "cell_type": "code",
   "execution_count": 117,
   "metadata": {},
   "outputs": [
    {
     "name": "stderr",
     "output_type": "stream",
     "text": [
      "/tmp/ipykernel_13499/1520260184.py:2: SettingWithCopyWarning: \n",
      "A value is trying to be set on a copy of a slice from a DataFrame.\n",
      "Try using .loc[row_indexer,col_indexer] = value instead\n",
      "\n",
      "See the caveats in the documentation: https://pandas.pydata.org/pandas-docs/stable/user_guide/indexing.html#returning-a-view-versus-a-copy\n",
      "  peaks_data_frame['peaks'] = peaks_data_frame['0.1_0.2'] + peaks_data_frame['0.2_0.3'] + peaks_data_frame['0.3_1.0']\n",
      "/tmp/ipykernel_13499/1520260184.py:4: SettingWithCopyWarning: \n",
      "A value is trying to be set on a copy of a slice from a DataFrame\n",
      "\n",
      "See the caveats in the documentation: https://pandas.pydata.org/pandas-docs/stable/user_guide/indexing.html#returning-a-view-versus-a-copy\n",
      "  peaks_data_frame.drop(['0.1_0.2', '0.2_0.3', '0.3_1.0'], axis=1, inplace=True)\n"
     ]
    }
   ],
   "source": [
    "peaks_data_frame = data_frame_1[['0.1_0.2', '0.2_0.3', '0.3_1.0','distance']]\n",
    "peaks_data_frame['peaks'] = peaks_data_frame['0.1_0.2'] + peaks_data_frame['0.2_0.3'] + peaks_data_frame['0.3_1.0']\n",
    "\n",
    "peaks_data_frame.drop(['0.1_0.2', '0.2_0.3', '0.3_1.0'], axis=1, inplace=True)"
   ]
  },
  {
   "cell_type": "code",
   "execution_count": 121,
   "metadata": {},
   "outputs": [
    {
     "data": {
      "text/plain": [
       "array([400, 400, 400, 400, 203])"
      ]
     },
     "execution_count": 121,
     "metadata": {},
     "output_type": "execute_result"
    }
   ],
   "source": [
    "peaks_data_frame['peaks'].value_counts()"
   ]
  },
  {
   "cell_type": "code",
   "execution_count": 119,
   "metadata": {},
   "outputs": [
    {
     "data": {
      "image/png": "[encoded data removed]",
      "text/plain": [
       "<Figure size 640x480 with 1 Axes>"
      ]
     },
     "metadata": {},
     "output_type": "display_data"
    }
   ],
   "source": [
    "# peaks\n",
    "\n",
    "n_rows = len(data_frame_1)\n",
    "fig, ax = plt.subplots(sharex=True, sharey=True)\n",
    "\n",
    "for j in range(n_rows):\n",
    "    y_values = peaks_data_frame['distance'].iloc[j]\n",
    "    x_values = peaks_data_frame['peaks'].iloc[j]\n",
    "    ax.scatter(x_values, y_values, s=3, alpha=1)\n",
    "\n",
    "plt.show()"
   ]
  },
  {
   "cell_type": "code",
   "execution_count": 133,
   "metadata": {},
   "outputs": [],
   "source": [
    "means = [peaks_data_frame[peaks_data_frame['peaks'] == i]['distance'].mean() for i in peaks_data_frame['peaks'].value_counts().index.to_list()]\n",
    "x = peaks_data_frame['peaks'].value_counts().index.to_list()"
   ]
  },
  {
   "cell_type": "code",
   "execution_count": 137,
   "metadata": {},
   "outputs": [
    {
     "data": {
      "image/png": "[encoded data removed]",
      "text/plain": [
       "<Figure size 640x480 with 1 Axes>"
      ]
     },
     "metadata": {},
     "output_type": "display_data"
    }
   ],
   "source": [
    "fig, ax = plt.subplots(sharex=True, sharey=True)\n",
    "ax.scatter(x, means)\n",
    "\n",
    "plt.show()"
   ]
  },
  {
   "cell_type": "code",
   "execution_count": 14,
   "metadata": {},
   "outputs": [
    {
     "data": {
      "text/plain": [
       "count    55350.000000\n",
       "mean      3260.978350\n",
       "std       4202.391081\n",
       "min          0.751505\n",
       "25%        378.965748\n",
       "50%       1254.280157\n",
       "75%       4598.103009\n",
       "max      19791.642460\n",
       "Name: distance, dtype: float64"
      ]
     },
     "execution_count": 14,
     "metadata": {},
     "output_type": "execute_result"
    }
   ],
   "source": [
    "# clearly number of peaks is a good feature\n",
    "# max confidence is also a good feature\n",
    "\n",
    "data_frame['peaks'] = data_frame['0.1_0.2'] + data_frame['0.2_0.3'] + data_frame['0.3_1.0']\n",
    "data_frame.sort_values('confidence', ascending=True, inplace=True)\n",
    "data_frame['distance'].describe()"
   ]
  },
  {
   "cell_type": "code",
   "execution_count": 20,
   "metadata": {},
   "outputs": [
    {
     "name": "stderr",
     "output_type": "stream",
     "text": [
      "/tmp/ipykernel_18361/3143293065.py:2: SettingWithCopyWarning: \n",
      "A value is trying to be set on a copy of a slice from a DataFrame.\n",
      "Try using .loc[row_indexer,col_indexer] = value instead\n",
      "\n",
      "See the caveats in the documentation: https://pandas.pydata.org/pandas-docs/stable/user_guide/indexing.html#returning-a-view-versus-a-copy\n",
      "  data_set['features'] = data_set[['confidence' ,'peaks']].values.tolist()\n",
      "/tmp/ipykernel_18361/3143293065.py:3: SettingWithCopyWarning: \n",
      "A value is trying to be set on a copy of a slice from a DataFrame.\n",
      "Try using .loc[row_indexer,col_indexer] = value instead\n",
      "\n",
      "See the caveats in the documentation: https://pandas.pydata.org/pandas-docs/stable/user_guide/indexing.html#returning-a-view-versus-a-copy\n",
      "  data_set['label'] = data_set['distance'].apply(lambda x: 1/x)\n",
      "/tmp/ipykernel_18361/3143293065.py:5: SettingWithCopyWarning: \n",
      "A value is trying to be set on a copy of a slice from a DataFrame\n",
      "\n",
      "See the caveats in the documentation: https://pandas.pydata.org/pandas-docs/stable/user_guide/indexing.html#returning-a-view-versus-a-copy\n",
      "  data_set.drop(['confidence','peaks','distance'], axis=1, inplace=True)\n"
     ]
    }
   ],
   "source": [
    "data_set = data_frame[['confidence','peaks','distance']]\n",
    "data_set['features'] = data_set[['confidence' ,'peaks']].values.tolist()\n",
    "data_set['label'] = data_set['distance'].apply(lambda x: 1/x)\n",
    "\n",
    "data_set.drop(['confidence','peaks','distance'], axis=1, inplace=True)"
   ]
  },
  {
   "cell_type": "code",
   "execution_count": 21,
   "metadata": {},
   "outputs": [
    {
     "data": {
      "text/html": [
       "<div>\n",
       "<style scoped>\n",
       "    .dataframe tbody tr th:only-of-type {\n",
       "        vertical-align: middle;\n",
       "    }\n",
       "\n",
       "    .dataframe tbody tr th {\n",
       "        vertical-align: top;\n",
       "    }\n",
       "\n",
       "    .dataframe thead th {\n",
       "        text-align: right;\n",
       "    }\n",
       "</style>\n",
       "<table border=\"1\" class=\"dataframe\">\n",
       "  <thead>\n",
       "    <tr style=\"text-align: right;\">\n",
       "      <th></th>\n",
       "      <th>features</th>\n",
       "      <th>label</th>\n",
       "    </tr>\n",
       "  </thead>\n",
       "  <tbody>\n",
       "    <tr>\n",
       "      <th>308784</th>\n",
       "      <td>[0.001972598023712635, 0.0]</td>\n",
       "      <td>0.000203</td>\n",
       "    </tr>\n",
       "    <tr>\n",
       "      <th>562250</th>\n",
       "      <td>[0.002010819735005498, 0.0]</td>\n",
       "      <td>0.000167</td>\n",
       "    </tr>\n",
       "    <tr>\n",
       "      <th>611163</th>\n",
       "      <td>[0.0020261991303414106, 0.0]</td>\n",
       "      <td>0.001158</td>\n",
       "    </tr>\n",
       "    <tr>\n",
       "      <th>17688</th>\n",
       "      <td>[0.0020325526129454374, 0.0]</td>\n",
       "      <td>0.000878</td>\n",
       "    </tr>\n",
       "    <tr>\n",
       "      <th>309492</th>\n",
       "      <td>[0.0020877732895314693, 0.0]</td>\n",
       "      <td>0.000105</td>\n",
       "    </tr>\n",
       "  </tbody>\n",
       "</table>\n",
       "</div>"
      ],
      "text/plain": [
       "                            features     label\n",
       "308784   [0.001972598023712635, 0.0]  0.000203\n",
       "562250   [0.002010819735005498, 0.0]  0.000167\n",
       "611163  [0.0020261991303414106, 0.0]  0.001158\n",
       "17688   [0.0020325526129454374, 0.0]  0.000878\n",
       "309492  [0.0020877732895314693, 0.0]  0.000105"
      ]
     },
     "execution_count": 21,
     "metadata": {},
     "output_type": "execute_result"
    }
   ],
   "source": [
    "data_set.head(5)"
   ]
  },
  {
   "cell_type": "code",
   "execution_count": 22,
   "metadata": {},
   "outputs": [
    {
     "data": {
      "text/plain": [
       "features    55350\n",
       "label       55350\n",
       "dtype: int64"
      ]
     },
     "execution_count": 22,
     "metadata": {},
     "output_type": "execute_result"
    }
   ],
   "source": [
    "data_set.count()"
   ]
  },
  {
   "cell_type": "code",
   "execution_count": 23,
   "metadata": {},
   "outputs": [],
   "source": [
    "from sklearn.linear_model import LinearRegression"
   ]
  },
  {
   "cell_type": "code",
   "execution_count": 24,
   "metadata": {},
   "outputs": [
    {
     "data": {
      "text/html": [
       "<style>#sk-container-id-1 {color: black;background-color: white;}#sk-container-id-1 pre{padding: 0;}#sk-container-id-1 div.sk-toggleable {background-color: white;}#sk-container-id-1 label.sk-toggleable__label {cursor: pointer;display: block;width: 100%;margin-bottom: 0;padding: 0.3em;box-sizing: border-box;text-align: center;}#sk-container-id-1 label.sk-toggleable__label-arrow:before {content: \"▸\";float: left;margin-right: 0.25em;color: #696969;}#sk-container-id-1 label.sk-toggleable__label-arrow:hover:before {color: black;}#sk-container-id-1 div.sk-estimator:hover label.sk-toggleable__label-arrow:before {color: black;}#sk-container-id-1 div.sk-toggleable__content {max-height: 0;max-width: 0;overflow: hidden;text-align: left;background-color: #f0f8ff;}#sk-container-id-1 div.sk-toggleable__content pre {margin: 0.2em;color: black;border-radius: 0.25em;background-color: #f0f8ff;}#sk-container-id-1 input.sk-toggleable__control:checked~div.sk-toggleable__content {max-height: 200px;max-width: 100%;overflow: auto;}#sk-container-id-1 input.sk-toggleable__control:checked~label.sk-toggleable__label-arrow:before {content: \"▾\";}#sk-container-id-1 div.sk-estimator input.sk-toggleable__control:checked~label.sk-toggleable__label {background-color: #d4ebff;}#sk-container-id-1 div.sk-label input.sk-toggleable__control:checked~label.sk-toggleable__label {background-color: #d4ebff;}#sk-container-id-1 input.sk-hidden--visually {border: 0;clip: rect(1px 1px 1px 1px);clip: rect(1px, 1px, 1px, 1px);height: 1px;margin: -1px;overflow: hidden;padding: 0;position: absolute;width: 1px;}#sk-container-id-1 div.sk-estimator {font-family: monospace;background-color: #f0f8ff;border: 1px dotted black;border-radius: 0.25em;box-sizing: border-box;margin-bottom: 0.5em;}#sk-container-id-1 div.sk-estimator:hover {background-color: #d4ebff;}#sk-container-id-1 div.sk-parallel-item::after {content: \"\";width: 100%;border-bottom: 1px solid gray;flex-grow: 1;}#sk-container-id-1 div.sk-label:hover label.sk-toggleable__label {background-color: #d4ebff;}#sk-container-id-1 div.sk-serial::before {content: \"\";position: absolute;border-left: 1px solid gray;box-sizing: border-box;top: 0;bottom: 0;left: 50%;z-index: 0;}#sk-container-id-1 div.sk-serial {display: flex;flex-direction: column;align-items: center;background-color: white;padding-right: 0.2em;padding-left: 0.2em;position: relative;}#sk-container-id-1 div.sk-item {position: relative;z-index: 1;}#sk-container-id-1 div.sk-parallel {display: flex;align-items: stretch;justify-content: center;background-color: white;position: relative;}#sk-container-id-1 div.sk-item::before, #sk-container-id-1 div.sk-parallel-item::before {content: \"\";position: absolute;border-left: 1px solid gray;box-sizing: border-box;top: 0;bottom: 0;left: 50%;z-index: -1;}#sk-container-id-1 div.sk-parallel-item {display: flex;flex-direction: column;z-index: 1;position: relative;background-color: white;}#sk-container-id-1 div.sk-parallel-item:first-child::after {align-self: flex-end;width: 50%;}#sk-container-id-1 div.sk-parallel-item:last-child::after {align-self: flex-start;width: 50%;}#sk-container-id-1 div.sk-parallel-item:only-child::after {width: 0;}#sk-container-id-1 div.sk-dashed-wrapped {border: 1px dashed gray;margin: 0 0.4em 0.5em 0.4em;box-sizing: border-box;padding-bottom: 0.4em;background-color: white;}#sk-container-id-1 div.sk-label label {font-family: monospace;font-weight: bold;display: inline-block;line-height: 1.2em;}#sk-container-id-1 div.sk-label-container {text-align: center;}#sk-container-id-1 div.sk-container {/* jupyter's `normalize.less` sets `[hidden] { display: none; }` but bootstrap.min.css set `[hidden] { display: none !important; }` so we also need the `!important` here to be able to override the default hidden behavior on the sphinx rendered scikit-learn.org. See: https://github.com/scikit-learn/scikit-learn/issues/21755 */display: inline-block !important;position: relative;}#sk-container-id-1 div.sk-text-repr-fallback {display: none;}</style><div id=\"sk-container-id-1\" class=\"sk-top-container\"><div class=\"sk-text-repr-fallback\"><pre>LinearRegression()</pre><b>In a Jupyter environment, please rerun this cell to show the HTML representation or trust the notebook. <br />On GitHub, the HTML representation is unable to render, please try loading this page with nbviewer.org.</b></div><div class=\"sk-container\" hidden><div class=\"sk-item\"><div class=\"sk-estimator sk-toggleable\"><input class=\"sk-toggleable__control sk-hidden--visually\" id=\"sk-estimator-id-1\" type=\"checkbox\" checked><label for=\"sk-estimator-id-1\" class=\"sk-toggleable__label sk-toggleable__label-arrow\">LinearRegression</label><div class=\"sk-toggleable__content\"><pre>LinearRegression()</pre></div></div></div></div></div>"
      ],
      "text/plain": [
       "LinearRegression()"
      ]
     },
     "execution_count": 24,
     "metadata": {},
     "output_type": "execute_result"
    }
   ],
   "source": [
    "model = LinearRegression()\n",
    "model.fit(data_set['features'].tolist(), data_set['label'].tolist())"
   ]
  },
  {
   "cell_type": "code",
   "execution_count": 25,
   "metadata": {},
   "outputs": [
    {
     "data": {
      "text/plain": [
       "array([0.03677514, 0.00149212])"
      ]
     },
     "execution_count": 25,
     "metadata": {},
     "output_type": "execute_result"
    }
   ],
   "source": [
    "model.coef_"
   ]
  },
  {
   "cell_type": "code",
   "execution_count": 26,
   "metadata": {},
   "outputs": [
    {
     "data": {
      "text/plain": [
       "count     5535.000000\n",
       "mean       655.377445\n",
       "std       1986.663024\n",
       "min          2.974029\n",
       "25%         32.149999\n",
       "50%         82.422675\n",
       "75%        297.806394\n",
       "max      17147.333877\n",
       "Name: distance, dtype: float64"
      ]
     },
     "execution_count": 26,
     "metadata": {},
     "output_type": "execute_result"
    }
   ],
   "source": [
    "data_frame['score'] = data_frame['confidence'] * model.coef_[0] + data_frame['peaks'] * model.coef_[1]\n",
    "data_frame.sort_values('score', ascending=False, inplace=True)\n",
    "data_frame_filtered = data_frame.iloc[0:int(0.1*len(data_frame))]\n",
    "data_frame_filtered['distance'].describe()"
   ]
  },
  {
   "cell_type": "code",
   "execution_count": null,
   "metadata": {},
   "outputs": [],
   "source": []
  }
 ],
 "metadata": {
  "kernelspec": {
   "display_name": "Python 3",
   "language": "python",
   "name": "python3"
  },
  "language_info": {
   "codemirror_mode": {
    "name": "ipython",
    "version": 3
   },
   "file_extension": ".py",
   "mimetype": "text/x-python",
   "name": "python",
   "nbconvert_exporter": "python",
   "pygments_lexer": "ipython3",
   "version": "3.10.12"
  }
 },
 "nbformat": 4,
 "nbformat_minor": 2
}
