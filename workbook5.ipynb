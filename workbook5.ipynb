{
 "cells": [
  {
   "cell_type": "code",
   "execution_count": 1,
   "metadata": {},
   "outputs": [],
   "source": [
    "import pandas as pd\n",
    "import numpy as np"
   ]
  },
  {
   "cell_type": "code",
   "execution_count": 2,
   "metadata": {},
   "outputs": [],
   "source": [
    "data_frame = pd.read_parquet('./dataset/relevance_challenge_valid.parquet')"
   ]
  },
  {
   "cell_type": "code",
   "execution_count": 3,
   "metadata": {},
   "outputs": [],
   "source": [
    "def softmax(x):\n",
    "    # Compute the exponential values for each element in the input array\n",
    "    exps = np.exp(x - np.max(x))\n",
    "\n",
    "    # Compute the softmax values by dividing the exponential of each element by the sum of exponentials\n",
    "    return exps / np.sum(exps)  "
   ]
  },
  {
   "cell_type": "code",
   "execution_count": 4,
   "metadata": {},
   "outputs": [],
   "source": [
    "data_frame['probabilities'] = data_frame['raw_prediction'].apply(softmax)"
   ]
  },
  {
   "cell_type": "code",
   "execution_count": 5,
   "metadata": {},
   "outputs": [],
   "source": [
    "data_frame['pred'] = data_frame['raw_prediction'].apply(lambda x: np.argmax(x))"
   ]
  },
  {
   "cell_type": "code",
   "execution_count": 8,
   "metadata": {},
   "outputs": [],
   "source": [
    "x_values = []\n",
    "y_values = []\n",
    "counts = []\n",
    "for j in range(3000):\n",
    "    filtered_data = data_frame[data_frame['pred'] == j]\n",
    "    if not filtered_data.empty:\n",
    "        x_values.append(j)\n",
    "        y_values.append(filtered_data['distance'].mean())\n",
    "        counts.append(len(filtered_data['distance']))\n"
   ]
  },
  {
   "cell_type": "code",
   "execution_count": 9,
   "metadata": {},
   "outputs": [
    {
     "data": {
      "text/html": [
       "<div>\n",
       "<style scoped>\n",
       "    .dataframe tbody tr th:only-of-type {\n",
       "        vertical-align: middle;\n",
       "    }\n",
       "\n",
       "    .dataframe tbody tr th {\n",
       "        vertical-align: top;\n",
       "    }\n",
       "\n",
       "    .dataframe thead th {\n",
       "        text-align: right;\n",
       "    }\n",
       "</style>\n",
       "<table border=\"1\" class=\"dataframe\">\n",
       "  <thead>\n",
       "    <tr style=\"text-align: right;\">\n",
       "      <th></th>\n",
       "      <th>feature</th>\n",
       "      <th>mean_distance</th>\n",
       "      <th>counts</th>\n",
       "    </tr>\n",
       "  </thead>\n",
       "  <tbody>\n",
       "    <tr>\n",
       "      <th>count</th>\n",
       "      <td>124.000000</td>\n",
       "      <td>124.000000</td>\n",
       "      <td>124.000000</td>\n",
       "    </tr>\n",
       "    <tr>\n",
       "      <th>mean</th>\n",
       "      <td>323.475806</td>\n",
       "      <td>3200.795064</td>\n",
       "      <td>273.645161</td>\n",
       "    </tr>\n",
       "    <tr>\n",
       "      <th>std</th>\n",
       "      <td>462.741626</td>\n",
       "      <td>1998.821039</td>\n",
       "      <td>248.174447</td>\n",
       "    </tr>\n",
       "    <tr>\n",
       "      <th>min</th>\n",
       "      <td>0.000000</td>\n",
       "      <td>493.514270</td>\n",
       "      <td>100.000000</td>\n",
       "    </tr>\n",
       "    <tr>\n",
       "      <th>25%</th>\n",
       "      <td>43.500000</td>\n",
       "      <td>1741.740018</td>\n",
       "      <td>129.750000</td>\n",
       "    </tr>\n",
       "    <tr>\n",
       "      <th>50%</th>\n",
       "      <td>139.000000</td>\n",
       "      <td>2797.943047</td>\n",
       "      <td>174.000000</td>\n",
       "    </tr>\n",
       "    <tr>\n",
       "      <th>75%</th>\n",
       "      <td>438.250000</td>\n",
       "      <td>4310.125920</td>\n",
       "      <td>311.250000</td>\n",
       "    </tr>\n",
       "    <tr>\n",
       "      <th>max</th>\n",
       "      <td>2347.000000</td>\n",
       "      <td>10564.948403</td>\n",
       "      <td>1388.000000</td>\n",
       "    </tr>\n",
       "  </tbody>\n",
       "</table>\n",
       "</div>"
      ],
      "text/plain": [
       "           feature  mean_distance       counts\n",
       "count   124.000000     124.000000   124.000000\n",
       "mean    323.475806    3200.795064   273.645161\n",
       "std     462.741626    1998.821039   248.174447\n",
       "min       0.000000     493.514270   100.000000\n",
       "25%      43.500000    1741.740018   129.750000\n",
       "50%     139.000000    2797.943047   174.000000\n",
       "75%     438.250000    4310.125920   311.250000\n",
       "max    2347.000000   10564.948403  1388.000000"
      ]
     },
     "execution_count": 9,
     "metadata": {},
     "output_type": "execute_result"
    }
   ],
   "source": [
    "mean_distance_pred = pd.DataFrame([x for x in zip(x_values,y_values,counts)])\n",
    "\n",
    "mean_distance_pred.rename(columns={0: 'feature'}, inplace=True)\n",
    "mean_distance_pred.rename(columns={1:'mean_distance'},inplace=True)\n",
    "mean_distance_pred.rename(columns={2:'counts'},inplace=True)\n",
    "\n",
    "mean_distance_pred_t = mean_distance_pred[mean_distance_pred['counts'] >= 100]\n",
    "mean_distance_pred_t.describe()"
   ]
  },
  {
   "cell_type": "code",
   "execution_count": 10,
   "metadata": {},
   "outputs": [],
   "source": [
    "valid_pred = mean_distance_pred['feature'].to_list()"
   ]
  },
  {
   "cell_type": "code",
   "execution_count": 11,
   "metadata": {},
   "outputs": [],
   "source": [
    "data_frame = data_frame[data_frame['pred'].isin(valid_pred)]"
   ]
  },
  {
   "cell_type": "code",
   "execution_count": 12,
   "metadata": {},
   "outputs": [
    {
     "data": {
      "text/plain": [
       "array([array([1.0701745e-05, 3.0589050e-03, 1.1691522e-05, ..., 2.6032150e-05,\n",
       "              1.1091998e-05, 2.5502461e-05], dtype=float32)                   ,\n",
       "       array([4.49231920e-05, 4.37965238e-04, 7.01508368e-04, ...,\n",
       "              5.86358547e-05, 1.19782715e-04, 1.44674719e-04], dtype=float32),\n",
       "       array([6.8960690e-05, 5.7571520e-05, 6.7080755e-04, ..., 1.5246231e-04,\n",
       "              2.9068040e-05, 2.0424993e-04], dtype=float32)                   ,\n",
       "       ...,\n",
       "       array([7.9940692e-05, 1.2463288e-04, 5.2878973e-03, ..., 4.0360184e-05,\n",
       "              6.9534231e-05, 3.8948891e-04], dtype=float32)                   ,\n",
       "       array([1.7136848e-04, 7.1163510e-04, 1.3841296e-04, ..., 6.5322194e-05,\n",
       "              2.1939288e-04, 3.6347017e-05], dtype=float32)                   ,\n",
       "       array([1.6614320e-03, 5.0464903e-05, 1.1213181e-04, ..., 3.3844783e-05,\n",
       "              4.2440792e-05, 3.4518613e-05], dtype=float32)                   ],\n",
       "      dtype=object)"
      ]
     },
     "execution_count": 12,
     "metadata": {},
     "output_type": "execute_result"
    }
   ],
   "source": [
    "bins = [0, 0.1, 0.2, 0.3, 1.0]\n",
    "\n",
    "probabilities = data_frame['probabilities'].values\n",
    "probabilities"
   ]
  },
  {
   "cell_type": "code",
   "execution_count": 13,
   "metadata": {},
   "outputs": [],
   "source": [
    "histograms = []\n",
    "for row in probabilities:\n",
    "    histograms.append(np.histogram(row, bins=bins)[0])"
   ]
  },
  {
   "cell_type": "code",
   "execution_count": 14,
   "metadata": {},
   "outputs": [
    {
     "data": {
      "text/plain": [
       "array([[0, 0, 0],\n",
       "       [1, 0, 0],\n",
       "       [1, 0, 0],\n",
       "       ...,\n",
       "       [0, 0, 0],\n",
       "       [0, 0, 0],\n",
       "       [0, 0, 0]])"
      ]
     },
     "execution_count": 14,
     "metadata": {},
     "output_type": "execute_result"
    }
   ],
   "source": [
    "histograms = np.array(histograms)\n",
    "histograms = np.delete(histograms, 0, 1)\n",
    "histograms"
   ]
  },
  {
   "cell_type": "code",
   "execution_count": 15,
   "metadata": {},
   "outputs": [],
   "source": [
    "column_names = [f'{bins[i]}_{bins[i+1]}' for i in range(len(bins) - 1)]\n",
    "histograms = histograms.T"
   ]
  },
  {
   "cell_type": "code",
   "execution_count": 16,
   "metadata": {},
   "outputs": [],
   "source": [
    "data_frame[column_names[1]] = histograms[0]\n",
    "data_frame[column_names[2]] = histograms[1]\n",
    "data_frame[column_names[3]] = histograms[2]"
   ]
  },
  {
   "cell_type": "code",
   "execution_count": 17,
   "metadata": {},
   "outputs": [
    {
     "data": {
      "text/plain": [
       "count    55350.000000\n",
       "mean      3260.978350\n",
       "std       4202.391081\n",
       "min          0.751505\n",
       "25%        378.965748\n",
       "50%       1254.280157\n",
       "75%       4598.103009\n",
       "max      19791.642460\n",
       "Name: distance, dtype: float64"
      ]
     },
     "execution_count": 17,
     "metadata": {},
     "output_type": "execute_result"
    }
   ],
   "source": [
    "data_frame['peaks'] = data_frame['0.1_0.2'] + data_frame['0.2_0.3'] + data_frame['0.3_1.0']\n",
    "data_frame.sort_values('confidence', ascending=True, inplace=True)\n",
    "data_frame['distance'].describe()"
   ]
  },
  {
   "cell_type": "code",
   "execution_count": 19,
   "metadata": {},
   "outputs": [
    {
     "name": "stderr",
     "output_type": "stream",
     "text": [
      "/tmp/ipykernel_40731/3900086980.py:1: FutureWarning: The default value of regex will change from True to False in a future version.\n",
      "  data_frame['text'] = data_frame['text'].str.replace(r'@[\\w]+','')\n",
      "/tmp/ipykernel_40731/3900086980.py:2: FutureWarning: The default value of regex will change from True to False in a future version.\n",
      "  data_frame['text'] = data_frame['text'].str.replace(r'https?://\\S+|www\\.\\S+','')\n"
     ]
    }
   ],
   "source": [
    "data_frame['text'] = data_frame['text'].str.replace(r'@[\\w]+','')\n",
    "data_frame['text'] = data_frame['text'].str.replace(r'https?://\\S+|www\\.\\S+','')"
   ]
  },
  {
   "cell_type": "code",
   "execution_count": 20,
   "metadata": {},
   "outputs": [],
   "source": [
    "data_frame['text_length'] = data_frame['text'].str.len()"
   ]
  },
  {
   "cell_type": "code",
   "execution_count": 2,
   "metadata": {},
   "outputs": [],
   "source": [
    "from sklearn.linear_model import LinearRegression"
   ]
  },
  {
   "cell_type": "code",
   "execution_count": 22,
   "metadata": {},
   "outputs": [
    {
     "name": "stderr",
     "output_type": "stream",
     "text": [
      "/tmp/ipykernel_40731/3902920575.py:2: SettingWithCopyWarning: \n",
      "A value is trying to be set on a copy of a slice from a DataFrame.\n",
      "Try using .loc[row_indexer,col_indexer] = value instead\n",
      "\n",
      "See the caveats in the documentation: https://pandas.pydata.org/pandas-docs/stable/user_guide/indexing.html#returning-a-view-versus-a-copy\n",
      "  data_set['features'] = data_set[['confidence' ,'peaks','text_length']].values.tolist()\n",
      "/tmp/ipykernel_40731/3902920575.py:3: SettingWithCopyWarning: \n",
      "A value is trying to be set on a copy of a slice from a DataFrame.\n",
      "Try using .loc[row_indexer,col_indexer] = value instead\n",
      "\n",
      "See the caveats in the documentation: https://pandas.pydata.org/pandas-docs/stable/user_guide/indexing.html#returning-a-view-versus-a-copy\n",
      "  data_set['label'] = data_set['distance'].apply(lambda x: 1/x)\n",
      "/tmp/ipykernel_40731/3902920575.py:5: SettingWithCopyWarning: \n",
      "A value is trying to be set on a copy of a slice from a DataFrame\n",
      "\n",
      "See the caveats in the documentation: https://pandas.pydata.org/pandas-docs/stable/user_guide/indexing.html#returning-a-view-versus-a-copy\n",
      "  data_set.drop(['confidence','peaks','distance','text_length'], axis=1, inplace=True)\n"
     ]
    }
   ],
   "source": [
    "data_set = data_frame[['confidence','peaks','text_length','distance']]\n",
    "data_set['features'] = data_set[['confidence' ,'peaks','text_length']].values.tolist()\n",
    "data_set['label'] = data_set['distance'].apply(lambda x: 1/x)\n",
    "\n",
    "data_set.drop(['confidence','peaks','distance','text_length'], axis=1, inplace=True)"
   ]
  },
  {
   "cell_type": "code",
   "execution_count": 1,
   "metadata": {},
   "outputs": [
    {
     "ename": "NameError",
     "evalue": "name 'LinearRegression' is not defined",
     "output_type": "error",
     "traceback": [
      "\u001b[0;31m---------------------------------------------------------------------------\u001b[0m",
      "\u001b[0;31mNameError\u001b[0m                                 Traceback (most recent call last)",
      "\u001b[1;32m/home/luto_pc/Documents/confident-predictions-challenge/workbook5.ipynb Cell 20\u001b[0m line \u001b[0;36m1\n\u001b[0;32m----> <a href='vscode-notebook-cell:/home/luto_pc/Documents/confident-predictions-challenge/workbook5.ipynb#X25sZmlsZQ%3D%3D?line=0'>1</a>\u001b[0m model \u001b[39m=\u001b[39m LinearRegression()\n\u001b[1;32m      <a href='vscode-notebook-cell:/home/luto_pc/Documents/confident-predictions-challenge/workbook5.ipynb#X25sZmlsZQ%3D%3D?line=1'>2</a>\u001b[0m model\u001b[39m.\u001b[39mfit(data_frame[\u001b[39m'\u001b[39m\u001b[39mconfidence\u001b[39m\u001b[39m'\u001b[39m,\u001b[39m'\u001b[39m\u001b[39mpeaks\u001b[39m\u001b[39m'\u001b[39m,\u001b[39m'\u001b[39m\u001b[39mtext_length\u001b[39m\u001b[39m'\u001b[39m], data_set[\u001b[39m'\u001b[39m\u001b[39mlabel\u001b[39m\u001b[39m'\u001b[39m])\n",
      "\u001b[0;31mNameError\u001b[0m: name 'LinearRegression' is not defined"
     ]
    }
   ],
   "source": [
    "model = LinearRegression()\n",
    "model.fit(data_frame['confidence','peaks','text_length'], data_set['label'])"
   ]
  },
  {
   "cell_type": "code",
   "execution_count": 34,
   "metadata": {},
   "outputs": [
    {
     "data": {
      "text/plain": [
       "count     5535.000000\n",
       "mean       646.513765\n",
       "std       1966.730383\n",
       "min          2.974029\n",
       "25%         32.053083\n",
       "50%         82.422675\n",
       "75%        296.950971\n",
       "max      17147.333877\n",
       "Name: distance, dtype: float64"
      ]
     },
     "execution_count": 34,
     "metadata": {},
     "output_type": "execute_result"
    }
   ],
   "source": [
    "data_frame['score'] = data_frame['confidence'] * model.coef_[0] + data_frame['peaks'] * model.coef_[1] + data_frame['text_length'] * model.coef_[2] + model.intercept_\n",
    "data_frame.sort_values('score', ascending=False, inplace=True)\n",
    "data_frame_filtered = data_frame.iloc[0:int(0.1*len(data_frame))]\n",
    "data_frame_filtered['distance'].describe()"
   ]
  },
  {
   "cell_type": "code",
   "execution_count": 26,
   "metadata": {},
   "outputs": [
    {
     "data": {
      "text/plain": [
       "[0.03665255946669803, 0.0014804699484368363, 3.4447546419646025e-06]"
      ]
     },
     "execution_count": 26,
     "metadata": {},
     "output_type": "execute_result"
    }
   ],
   "source": []
  },
  {
   "cell_type": "code",
   "execution_count": 27,
   "metadata": {},
   "outputs": [],
   "source": [
    "# lets try gradient descent"
   ]
  },
  {
   "cell_type": "code",
   "execution_count": 36,
   "metadata": {},
   "outputs": [
    {
     "name": "stderr",
     "output_type": "stream",
     "text": [
      "/tmp/ipykernel_40731/4088886462.py:16: OptimizeWarning: Unknown solver options: xtol\n",
      "  result = minimize(objective_function, initial_weights, method='nelder-mead', options={'xtol': 1e-8, 'disp': True})\n"
     ]
    },
    {
     "name": "stdout",
     "output_type": "stream",
     "text": [
      "65.23558585310592\n",
      "65.23994870493013\n",
      "65.2541621855359\n",
      "68.424425961507\n",
      "65.28558585310591\n",
      "62.083215336831934\n",
      "58.91261002449441\n",
      "62.035567530927274\n",
      "60.45769387119294\n",
      "58.08077993493012\n",
      "54.507739827666455\n",
      "49.143816814946724\n",
      "51.26188279185484\n",
      "48.241850911920096\n",
      "45.699300336677915\n",
      "38.26081540320538\n",
      "27.93491809256087\n",
      "42.59193396896334\n",
      "43.36877556089199\n",
      "44.92245874474927\n",
      "43.7571963568563\n",
      "38.53936745375379\n",
      "38.08838450224048\n",
      "39.59840044220786\n",
      "35.65184682672643\n",
      "30.508857995432937\n",
      "28.22911068199653\n",
      "22.622999344604576\n",
      "14.66481529002997\n",
      "15.01700420328373\n",
      "12.41406613850262\n",
      "3.3666702100374617\n",
      "2.262593215959487\n",
      "-10.720665517059036\n",
      "-10.279376632905546\n",
      "18.381344411194267\n",
      "-0.7258029515389421\n",
      "-5.232866321039743\n",
      "9.954536572202862\n",
      "-7.235816766699537\n",
      "9.189657275847594\n",
      "-2.9079776970500633\n",
      "6.738908004889632\n",
      "-3.3684730361737754\n",
      "6.050124697842251\n",
      "-1.2621154187395025\n",
      "-4.2294521699829986\n",
      "3.4802304808859392\n",
      "-1.6595579530266866\n",
      "2.1952833724077827\n",
      "-2.131691100993049\n",
      "1.992079882279834\n",
      "4.124192178293582\n",
      "0.08446148051876919\n",
      "3.993011927121878\n",
      "0.4539007681262632\n",
      "3.3674671388679145\n",
      "0.9052128951060555\n",
      "3.2236839147503167\n",
      "1.1463465547822764\n",
      "2.8929386176086345\n",
      "1.4021443257317003\n",
      "2.0936816273438086\n",
      "1.5692132185310554\n",
      "2.1273365491196605\n",
      "1.448646388692945\n",
      "2.2616590051870684\n",
      "2.7887321432722407\n",
      "1.7836678273377686\n",
      "2.059708215699747\n",
      "2.0428807548118213\n",
      "2.1268694437334514\n",
      "1.7203631354863895\n",
      "2.3904060127760376\n",
      "2.2228952934536252\n",
      "1.8878738548088017\n",
      "1.9716292144700072\n",
      "1.9062795898972538\n",
      "2.0717219802744022\n",
      "1.9614270533563032\n",
      "1.9243002367592357\n",
      "1.9581522314943638\n",
      "2.0209439881717106\n",
      "2.055614688372323\n",
      "1.9825178457138541\n",
      "1.9407047105058812\n",
      "1.9964939988656323\n",
      "2.008926391063445\n",
      "2.0553131470096333\n",
      "1.9693568196318196\n",
      "1.9942869405727328\n",
      "1.9895059222897429\n",
      "2.0087189935186713\n",
      "1.968599354685757\n",
      "2.025903572937634\n",
      "1.9943762238141995\n",
      "1.9872048389619639\n",
      "1.9614279698335206\n",
      "2.0097846721616053\n",
      "1.9943315821934662\n",
      "1.9954351113399162\n",
      "1.9919410730519709\n",
      "2.010139898375917\n",
      "1.9779020968238603\n",
      "2.0020804479879026\n",
      "1.9949056675770576\n",
      "1.9948833467666913\n",
      "1.993688092195944\n",
      "2.0027875048579165\n",
      "1.9866686040818877\n",
      "1.990698329275895\n",
      "1.9987577796639093\n",
      "1.9927131918728986\n",
      "1.9967429170669055\n",
      "1.9937206231714002\n",
      "1.9957842822315888\n",
      "1.9967835807862266\n",
      "1.9944863625751066\n",
      "1.9960178413825198\n",
      "1.9948692322769601\n",
      "1.9956096967857528\n",
      "1.995170389458487\n",
      "1.9951592290533036\n",
      "1.9949607369575117\n",
      "1.995726476361218\n",
      "1.9958116079193833\n",
      "1.9953223237698234\n",
      "1.9958764146698682\n",
      "1.995346895761332\n",
      "1.9951305374671944\n",
      "1.9955774916377116\n",
      "1.9952795221907007\n",
      "1.995502999275959\n",
      "1.9955224040628345\n",
      "1.99537871755487\n",
      "1.995391003550624\n",
      "1.995506301488814\n",
      "Optimization terminated successfully.\n",
      "         Current function value: 684.121210\n",
      "         Iterations: 60\n",
      "         Function evaluations: 137\n",
      "Optimal Weights: [1.40884234 1.22538558 0.00479347 1.11152817]\n"
     ]
    }
   ],
   "source": [
    "from scipy.optimize import minimize\n",
    "\n",
    "# Define the objective function to minimize\n",
    "def objective_function(weights):\n",
    "\n",
    "    data_frame['score'] = weights[0] * data_frame['confidence'] + weights[1] * data_frame['peaks'] + weights[2] * data_frame['text_length'] +weights[3]\n",
    "\n",
    "    print(data_frame['score'].mean())\n",
    "    \n",
    "    data_frame.sort_values('score', ascending=False, inplace=True)\n",
    "    error = data_frame['distance'].iloc[:int(0.1*len(data_frame))].mean()\n",
    "    return error\n",
    "\n",
    "initial_weights = [1,1,1,1]\n",
    "\n",
    "result = minimize(objective_function, initial_weights, method='nelder-mead', options={'xtol': 1e-8, 'disp': True})\n",
    "\n",
    "optimal_weights = result.x\n",
    "\n",
    "print(\"Optimal Weights:\", optimal_weights)"
   ]
  },
  {
   "cell_type": "code",
   "execution_count": 37,
   "metadata": {},
   "outputs": [
    {
     "data": {
      "text/plain": [
       "[0.03665255946669803,\n",
       " 0.0014804699484368363,\n",
       " 3.4447546419646025e-06,\n",
       " 0.001448278803293442]"
      ]
     },
     "execution_count": 37,
     "metadata": {},
     "output_type": "execute_result"
    }
   ],
   "source": [
    "model.coef_.tolist() + [model.intercept_]"
   ]
  },
  {
   "cell_type": "code",
   "execution_count": 38,
   "metadata": {},
   "outputs": [],
   "source": [
    "import pickle\n",
    "\n",
    "# Export the trained model\n",
    "with open('trained_model.pkl', 'wb') as f:\n",
    "    pickle.dump(model, f)\n"
   ]
  },
  {
   "cell_type": "code",
   "execution_count": null,
   "metadata": {},
   "outputs": [],
   "source": [
    "import pickle\n",
    "\n",
    "# Import the trained model\n",
    "with open('trained_model.pkl', 'rb') as f:\n",
    "    trained_model = pickle.load(f)\n"
   ]
  },
  {
   "cell_type": "code",
   "execution_count": 3,
   "metadata": {},
   "outputs": [],
   "source": [
    "import pandas as pd"
   ]
  },
  {
   "cell_type": "code",
   "execution_count": 6,
   "metadata": {},
   "outputs": [],
   "source": [
    "idx = pd.read_csv('./submission.csv')"
   ]
  },
  {
   "cell_type": "code",
   "execution_count": 7,
   "metadata": {},
   "outputs": [],
   "source": [
    "dataset = pd.read_parquet('./dataset/relevance_challenge_test.parquet')"
   ]
  },
  {
   "cell_type": "code",
   "execution_count": 8,
   "metadata": {},
   "outputs": [
    {
     "data": {
      "text/html": [
       "<div>\n",
       "<style scoped>\n",
       "    .dataframe tbody tr th:only-of-type {\n",
       "        vertical-align: middle;\n",
       "    }\n",
       "\n",
       "    .dataframe tbody tr th {\n",
       "        vertical-align: top;\n",
       "    }\n",
       "\n",
       "    .dataframe thead th {\n",
       "        text-align: right;\n",
       "    }\n",
       "</style>\n",
       "<table border=\"1\" class=\"dataframe\">\n",
       "  <thead>\n",
       "    <tr style=\"text-align: right;\">\n",
       "      <th></th>\n",
       "      <th>text</th>\n",
       "      <th>raw_prediction</th>\n",
       "      <th>confidence</th>\n",
       "    </tr>\n",
       "  </thead>\n",
       "  <tbody>\n",
       "    <tr>\n",
       "      <th>49340</th>\n",
       "      <td>pq o bill não foi no 17🤯</td>\n",
       "      <td>[1.8367281, -2.1598325, -0.68295133, -1.548769...</td>\n",
       "      <td>0.029528</td>\n",
       "    </tr>\n",
       "    <tr>\n",
       "      <th>313710</th>\n",
       "      <td>relax! @ clear light new mexico https://t.co/j...</td>\n",
       "      <td>[-0.37366188, 0.6440394, 1.1217443, 0.93759936...</td>\n",
       "      <td>0.496777</td>\n",
       "    </tr>\n",
       "    <tr>\n",
       "      <th>406184</th>\n",
       "      <td>just wait until @gablesteveson becomes wwe cha...</td>\n",
       "      <td>[-2.6163144, -2.9765346, -0.35192207, -0.39941...</td>\n",
       "      <td>0.004565</td>\n",
       "    </tr>\n",
       "    <tr>\n",
       "      <th>294082</th>\n",
       "      <td>@itsmainakageni this should not be a tbt maina...</td>\n",
       "      <td>[-1.2409436, 0.34476605, -0.3286421, -1.021066...</td>\n",
       "      <td>0.402230</td>\n",
       "    </tr>\n",
       "    <tr>\n",
       "      <th>331979</th>\n",
       "      <td>@sandraeckersley @joneshowdareyou well he is a...</td>\n",
       "      <td>[-0.6044651, -1.6236467, -0.14375791, 0.141036...</td>\n",
       "      <td>0.019685</td>\n",
       "    </tr>\n",
       "  </tbody>\n",
       "</table>\n",
       "</div>"
      ],
      "text/plain": [
       "                                                     text  \\\n",
       "49340                            pq o bill não foi no 17🤯   \n",
       "313710  relax! @ clear light new mexico https://t.co/j...   \n",
       "406184  just wait until @gablesteveson becomes wwe cha...   \n",
       "294082  @itsmainakageni this should not be a tbt maina...   \n",
       "331979  @sandraeckersley @joneshowdareyou well he is a...   \n",
       "\n",
       "                                           raw_prediction  confidence  \n",
       "49340   [1.8367281, -2.1598325, -0.68295133, -1.548769...    0.029528  \n",
       "313710  [-0.37366188, 0.6440394, 1.1217443, 0.93759936...    0.496777  \n",
       "406184  [-2.6163144, -2.9765346, -0.35192207, -0.39941...    0.004565  \n",
       "294082  [-1.2409436, 0.34476605, -0.3286421, -1.021066...    0.402230  \n",
       "331979  [-0.6044651, -1.6236467, -0.14375791, 0.141036...    0.019685  "
      ]
     },
     "execution_count": 8,
     "metadata": {},
     "output_type": "execute_result"
    }
   ],
   "source": [
    "dataset.head()"
   ]
  },
  {
   "cell_type": "code",
   "execution_count": null,
   "metadata": {},
   "outputs": [],
   "source": []
  }
 ],
 "metadata": {
  "kernelspec": {
   "display_name": "Python 3",
   "language": "python",
   "name": "python3"
  },
  "language_info": {
   "codemirror_mode": {
    "name": "ipython",
    "version": 3
   },
   "file_extension": ".py",
   "mimetype": "text/x-python",
   "name": "python",
   "nbconvert_exporter": "python",
   "pygments_lexer": "ipython3",
   "version": "3.10.12"
  }
 },
 "nbformat": 4,
 "nbformat_minor": 2
}
